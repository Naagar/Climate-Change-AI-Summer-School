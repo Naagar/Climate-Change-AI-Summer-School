{
  "nbformat": 4,
  "nbformat_minor": 0,
  "metadata": {
    "colab": {
      "provenance": []
    },
    "kernelspec": {
      "name": "python3",
      "display_name": "Python 3"
    },
    "language_info": {
      "name": "python"
    },
    "accelerator": "GPU",
    "gpuClass": "standard",
    "widgets": {
      "application/vnd.jupyter.widget-state+json": {
        "50a5a7cfd06c4028b10cff7e1ef1c931": {
          "model_module": "@jupyter-widgets/controls",
          "model_name": "HBoxModel",
          "model_module_version": "1.5.0",
          "state": {
            "_dom_classes": [],
            "_model_module": "@jupyter-widgets/controls",
            "_model_module_version": "1.5.0",
            "_model_name": "HBoxModel",
            "_view_count": null,
            "_view_module": "@jupyter-widgets/controls",
            "_view_module_version": "1.5.0",
            "_view_name": "HBoxView",
            "box_style": "",
            "children": [
              "IPY_MODEL_f052d66a04f6409cb466b5d48a2b2b26",
              "IPY_MODEL_7fa33ddae6894cd3be1bad4b1739e5c7",
              "IPY_MODEL_92a625d6928147bcb1cfdaf52fe2363d"
            ],
            "layout": "IPY_MODEL_e30aa056ea1049debe4742db2b2df222"
          }
        },
        "f052d66a04f6409cb466b5d48a2b2b26": {
          "model_module": "@jupyter-widgets/controls",
          "model_name": "HTMLModel",
          "model_module_version": "1.5.0",
          "state": {
            "_dom_classes": [],
            "_model_module": "@jupyter-widgets/controls",
            "_model_module_version": "1.5.0",
            "_model_name": "HTMLModel",
            "_view_count": null,
            "_view_module": "@jupyter-widgets/controls",
            "_view_module_version": "1.5.0",
            "_view_name": "HTMLView",
            "description": "",
            "description_tooltip": null,
            "layout": "IPY_MODEL_9e8a9cb9f31a42beaf02c7ba5b4f34ed",
            "placeholder": "​",
            "style": "IPY_MODEL_0fdc7a7efe234a8286b899308943de64",
            "value": "100%"
          }
        },
        "7fa33ddae6894cd3be1bad4b1739e5c7": {
          "model_module": "@jupyter-widgets/controls",
          "model_name": "FloatProgressModel",
          "model_module_version": "1.5.0",
          "state": {
            "_dom_classes": [],
            "_model_module": "@jupyter-widgets/controls",
            "_model_module_version": "1.5.0",
            "_model_name": "FloatProgressModel",
            "_view_count": null,
            "_view_module": "@jupyter-widgets/controls",
            "_view_module_version": "1.5.0",
            "_view_name": "ProgressView",
            "bar_style": "success",
            "description": "",
            "description_tooltip": null,
            "layout": "IPY_MODEL_611e8d47189847318e7e1d7796f48db3",
            "max": 36,
            "min": 0,
            "orientation": "horizontal",
            "style": "IPY_MODEL_c8914ce3a0004f63a888ba444f8af318",
            "value": 36
          }
        },
        "92a625d6928147bcb1cfdaf52fe2363d": {
          "model_module": "@jupyter-widgets/controls",
          "model_name": "HTMLModel",
          "model_module_version": "1.5.0",
          "state": {
            "_dom_classes": [],
            "_model_module": "@jupyter-widgets/controls",
            "_model_module_version": "1.5.0",
            "_model_name": "HTMLModel",
            "_view_count": null,
            "_view_module": "@jupyter-widgets/controls",
            "_view_module_version": "1.5.0",
            "_view_name": "HTMLView",
            "description": "",
            "description_tooltip": null,
            "layout": "IPY_MODEL_abf99e8a44494cd187391ca4a07a026e",
            "placeholder": "​",
            "style": "IPY_MODEL_c20eaa791e264024aff4feb2f42d0d07",
            "value": " 36/36 [00:00&lt;00:00, 90.85it/s]"
          }
        },
        "e30aa056ea1049debe4742db2b2df222": {
          "model_module": "@jupyter-widgets/base",
          "model_name": "LayoutModel",
          "model_module_version": "1.2.0",
          "state": {
            "_model_module": "@jupyter-widgets/base",
            "_model_module_version": "1.2.0",
            "_model_name": "LayoutModel",
            "_view_count": null,
            "_view_module": "@jupyter-widgets/base",
            "_view_module_version": "1.2.0",
            "_view_name": "LayoutView",
            "align_content": null,
            "align_items": null,
            "align_self": null,
            "border": null,
            "bottom": null,
            "display": null,
            "flex": null,
            "flex_flow": null,
            "grid_area": null,
            "grid_auto_columns": null,
            "grid_auto_flow": null,
            "grid_auto_rows": null,
            "grid_column": null,
            "grid_gap": null,
            "grid_row": null,
            "grid_template_areas": null,
            "grid_template_columns": null,
            "grid_template_rows": null,
            "height": null,
            "justify_content": null,
            "justify_items": null,
            "left": null,
            "margin": null,
            "max_height": null,
            "max_width": null,
            "min_height": null,
            "min_width": null,
            "object_fit": null,
            "object_position": null,
            "order": null,
            "overflow": null,
            "overflow_x": null,
            "overflow_y": null,
            "padding": null,
            "right": null,
            "top": null,
            "visibility": null,
            "width": null
          }
        },
        "9e8a9cb9f31a42beaf02c7ba5b4f34ed": {
          "model_module": "@jupyter-widgets/base",
          "model_name": "LayoutModel",
          "model_module_version": "1.2.0",
          "state": {
            "_model_module": "@jupyter-widgets/base",
            "_model_module_version": "1.2.0",
            "_model_name": "LayoutModel",
            "_view_count": null,
            "_view_module": "@jupyter-widgets/base",
            "_view_module_version": "1.2.0",
            "_view_name": "LayoutView",
            "align_content": null,
            "align_items": null,
            "align_self": null,
            "border": null,
            "bottom": null,
            "display": null,
            "flex": null,
            "flex_flow": null,
            "grid_area": null,
            "grid_auto_columns": null,
            "grid_auto_flow": null,
            "grid_auto_rows": null,
            "grid_column": null,
            "grid_gap": null,
            "grid_row": null,
            "grid_template_areas": null,
            "grid_template_columns": null,
            "grid_template_rows": null,
            "height": null,
            "justify_content": null,
            "justify_items": null,
            "left": null,
            "margin": null,
            "max_height": null,
            "max_width": null,
            "min_height": null,
            "min_width": null,
            "object_fit": null,
            "object_position": null,
            "order": null,
            "overflow": null,
            "overflow_x": null,
            "overflow_y": null,
            "padding": null,
            "right": null,
            "top": null,
            "visibility": null,
            "width": null
          }
        },
        "0fdc7a7efe234a8286b899308943de64": {
          "model_module": "@jupyter-widgets/controls",
          "model_name": "DescriptionStyleModel",
          "model_module_version": "1.5.0",
          "state": {
            "_model_module": "@jupyter-widgets/controls",
            "_model_module_version": "1.5.0",
            "_model_name": "DescriptionStyleModel",
            "_view_count": null,
            "_view_module": "@jupyter-widgets/base",
            "_view_module_version": "1.2.0",
            "_view_name": "StyleView",
            "description_width": ""
          }
        },
        "611e8d47189847318e7e1d7796f48db3": {
          "model_module": "@jupyter-widgets/base",
          "model_name": "LayoutModel",
          "model_module_version": "1.2.0",
          "state": {
            "_model_module": "@jupyter-widgets/base",
            "_model_module_version": "1.2.0",
            "_model_name": "LayoutModel",
            "_view_count": null,
            "_view_module": "@jupyter-widgets/base",
            "_view_module_version": "1.2.0",
            "_view_name": "LayoutView",
            "align_content": null,
            "align_items": null,
            "align_self": null,
            "border": null,
            "bottom": null,
            "display": null,
            "flex": null,
            "flex_flow": null,
            "grid_area": null,
            "grid_auto_columns": null,
            "grid_auto_flow": null,
            "grid_auto_rows": null,
            "grid_column": null,
            "grid_gap": null,
            "grid_row": null,
            "grid_template_areas": null,
            "grid_template_columns": null,
            "grid_template_rows": null,
            "height": null,
            "justify_content": null,
            "justify_items": null,
            "left": null,
            "margin": null,
            "max_height": null,
            "max_width": null,
            "min_height": null,
            "min_width": null,
            "object_fit": null,
            "object_position": null,
            "order": null,
            "overflow": null,
            "overflow_x": null,
            "overflow_y": null,
            "padding": null,
            "right": null,
            "top": null,
            "visibility": null,
            "width": null
          }
        },
        "c8914ce3a0004f63a888ba444f8af318": {
          "model_module": "@jupyter-widgets/controls",
          "model_name": "ProgressStyleModel",
          "model_module_version": "1.5.0",
          "state": {
            "_model_module": "@jupyter-widgets/controls",
            "_model_module_version": "1.5.0",
            "_model_name": "ProgressStyleModel",
            "_view_count": null,
            "_view_module": "@jupyter-widgets/base",
            "_view_module_version": "1.2.0",
            "_view_name": "StyleView",
            "bar_color": null,
            "description_width": ""
          }
        },
        "abf99e8a44494cd187391ca4a07a026e": {
          "model_module": "@jupyter-widgets/base",
          "model_name": "LayoutModel",
          "model_module_version": "1.2.0",
          "state": {
            "_model_module": "@jupyter-widgets/base",
            "_model_module_version": "1.2.0",
            "_model_name": "LayoutModel",
            "_view_count": null,
            "_view_module": "@jupyter-widgets/base",
            "_view_module_version": "1.2.0",
            "_view_name": "LayoutView",
            "align_content": null,
            "align_items": null,
            "align_self": null,
            "border": null,
            "bottom": null,
            "display": null,
            "flex": null,
            "flex_flow": null,
            "grid_area": null,
            "grid_auto_columns": null,
            "grid_auto_flow": null,
            "grid_auto_rows": null,
            "grid_column": null,
            "grid_gap": null,
            "grid_row": null,
            "grid_template_areas": null,
            "grid_template_columns": null,
            "grid_template_rows": null,
            "height": null,
            "justify_content": null,
            "justify_items": null,
            "left": null,
            "margin": null,
            "max_height": null,
            "max_width": null,
            "min_height": null,
            "min_width": null,
            "object_fit": null,
            "object_position": null,
            "order": null,
            "overflow": null,
            "overflow_x": null,
            "overflow_y": null,
            "padding": null,
            "right": null,
            "top": null,
            "visibility": null,
            "width": null
          }
        },
        "c20eaa791e264024aff4feb2f42d0d07": {
          "model_module": "@jupyter-widgets/controls",
          "model_name": "DescriptionStyleModel",
          "model_module_version": "1.5.0",
          "state": {
            "_model_module": "@jupyter-widgets/controls",
            "_model_module_version": "1.5.0",
            "_model_name": "DescriptionStyleModel",
            "_view_count": null,
            "_view_module": "@jupyter-widgets/base",
            "_view_module_version": "1.2.0",
            "_view_name": "StyleView",
            "description_width": ""
          }
        },
        "dba0b41334454f3f870e87699bd154e0": {
          "model_module": "@jupyter-widgets/controls",
          "model_name": "HBoxModel",
          "model_module_version": "1.5.0",
          "state": {
            "_dom_classes": [],
            "_model_module": "@jupyter-widgets/controls",
            "_model_module_version": "1.5.0",
            "_model_name": "HBoxModel",
            "_view_count": null,
            "_view_module": "@jupyter-widgets/controls",
            "_view_module_version": "1.5.0",
            "_view_name": "HBoxView",
            "box_style": "",
            "children": [
              "IPY_MODEL_8438fdefe7bf490e862723975371d61c",
              "IPY_MODEL_03303b9c1b8548b3a04909a826f80002",
              "IPY_MODEL_6b556a795d984987aea598764f2d2797"
            ],
            "layout": "IPY_MODEL_aeaaa5b9f5284554aa8448948ff9c7c1"
          }
        },
        "8438fdefe7bf490e862723975371d61c": {
          "model_module": "@jupyter-widgets/controls",
          "model_name": "HTMLModel",
          "model_module_version": "1.5.0",
          "state": {
            "_dom_classes": [],
            "_model_module": "@jupyter-widgets/controls",
            "_model_module_version": "1.5.0",
            "_model_name": "HTMLModel",
            "_view_count": null,
            "_view_module": "@jupyter-widgets/controls",
            "_view_module_version": "1.5.0",
            "_view_name": "HTMLView",
            "description": "",
            "description_tooltip": null,
            "layout": "IPY_MODEL_a08703cd7dfa45ad94314f548c70ae64",
            "placeholder": "​",
            "style": "IPY_MODEL_1b2dc1db6dc94fb0b056191767046db2",
            "value": "100%"
          }
        },
        "03303b9c1b8548b3a04909a826f80002": {
          "model_module": "@jupyter-widgets/controls",
          "model_name": "FloatProgressModel",
          "model_module_version": "1.5.0",
          "state": {
            "_dom_classes": [],
            "_model_module": "@jupyter-widgets/controls",
            "_model_module_version": "1.5.0",
            "_model_name": "FloatProgressModel",
            "_view_count": null,
            "_view_module": "@jupyter-widgets/controls",
            "_view_module_version": "1.5.0",
            "_view_name": "ProgressView",
            "bar_style": "success",
            "description": "",
            "description_tooltip": null,
            "layout": "IPY_MODEL_1fc4c15488ef4c0e8570aad266cc3c21",
            "max": 2,
            "min": 0,
            "orientation": "horizontal",
            "style": "IPY_MODEL_6b0f9dd6014d4a63adb5d85d93c6b2af",
            "value": 2
          }
        },
        "6b556a795d984987aea598764f2d2797": {
          "model_module": "@jupyter-widgets/controls",
          "model_name": "HTMLModel",
          "model_module_version": "1.5.0",
          "state": {
            "_dom_classes": [],
            "_model_module": "@jupyter-widgets/controls",
            "_model_module_version": "1.5.0",
            "_model_name": "HTMLModel",
            "_view_count": null,
            "_view_module": "@jupyter-widgets/controls",
            "_view_module_version": "1.5.0",
            "_view_name": "HTMLView",
            "description": "",
            "description_tooltip": null,
            "layout": "IPY_MODEL_5820a025a44f417a8cab72ba243a55d2",
            "placeholder": "​",
            "style": "IPY_MODEL_6e6e668844014da4be5713c15f0a6869",
            "value": " 2/2 [00:00&lt;00:00, 23.91it/s]"
          }
        },
        "aeaaa5b9f5284554aa8448948ff9c7c1": {
          "model_module": "@jupyter-widgets/base",
          "model_name": "LayoutModel",
          "model_module_version": "1.2.0",
          "state": {
            "_model_module": "@jupyter-widgets/base",
            "_model_module_version": "1.2.0",
            "_model_name": "LayoutModel",
            "_view_count": null,
            "_view_module": "@jupyter-widgets/base",
            "_view_module_version": "1.2.0",
            "_view_name": "LayoutView",
            "align_content": null,
            "align_items": null,
            "align_self": null,
            "border": null,
            "bottom": null,
            "display": null,
            "flex": null,
            "flex_flow": null,
            "grid_area": null,
            "grid_auto_columns": null,
            "grid_auto_flow": null,
            "grid_auto_rows": null,
            "grid_column": null,
            "grid_gap": null,
            "grid_row": null,
            "grid_template_areas": null,
            "grid_template_columns": null,
            "grid_template_rows": null,
            "height": null,
            "justify_content": null,
            "justify_items": null,
            "left": null,
            "margin": null,
            "max_height": null,
            "max_width": null,
            "min_height": null,
            "min_width": null,
            "object_fit": null,
            "object_position": null,
            "order": null,
            "overflow": null,
            "overflow_x": null,
            "overflow_y": null,
            "padding": null,
            "right": null,
            "top": null,
            "visibility": null,
            "width": null
          }
        },
        "a08703cd7dfa45ad94314f548c70ae64": {
          "model_module": "@jupyter-widgets/base",
          "model_name": "LayoutModel",
          "model_module_version": "1.2.0",
          "state": {
            "_model_module": "@jupyter-widgets/base",
            "_model_module_version": "1.2.0",
            "_model_name": "LayoutModel",
            "_view_count": null,
            "_view_module": "@jupyter-widgets/base",
            "_view_module_version": "1.2.0",
            "_view_name": "LayoutView",
            "align_content": null,
            "align_items": null,
            "align_self": null,
            "border": null,
            "bottom": null,
            "display": null,
            "flex": null,
            "flex_flow": null,
            "grid_area": null,
            "grid_auto_columns": null,
            "grid_auto_flow": null,
            "grid_auto_rows": null,
            "grid_column": null,
            "grid_gap": null,
            "grid_row": null,
            "grid_template_areas": null,
            "grid_template_columns": null,
            "grid_template_rows": null,
            "height": null,
            "justify_content": null,
            "justify_items": null,
            "left": null,
            "margin": null,
            "max_height": null,
            "max_width": null,
            "min_height": null,
            "min_width": null,
            "object_fit": null,
            "object_position": null,
            "order": null,
            "overflow": null,
            "overflow_x": null,
            "overflow_y": null,
            "padding": null,
            "right": null,
            "top": null,
            "visibility": null,
            "width": null
          }
        },
        "1b2dc1db6dc94fb0b056191767046db2": {
          "model_module": "@jupyter-widgets/controls",
          "model_name": "DescriptionStyleModel",
          "model_module_version": "1.5.0",
          "state": {
            "_model_module": "@jupyter-widgets/controls",
            "_model_module_version": "1.5.0",
            "_model_name": "DescriptionStyleModel",
            "_view_count": null,
            "_view_module": "@jupyter-widgets/base",
            "_view_module_version": "1.2.0",
            "_view_name": "StyleView",
            "description_width": ""
          }
        },
        "1fc4c15488ef4c0e8570aad266cc3c21": {
          "model_module": "@jupyter-widgets/base",
          "model_name": "LayoutModel",
          "model_module_version": "1.2.0",
          "state": {
            "_model_module": "@jupyter-widgets/base",
            "_model_module_version": "1.2.0",
            "_model_name": "LayoutModel",
            "_view_count": null,
            "_view_module": "@jupyter-widgets/base",
            "_view_module_version": "1.2.0",
            "_view_name": "LayoutView",
            "align_content": null,
            "align_items": null,
            "align_self": null,
            "border": null,
            "bottom": null,
            "display": null,
            "flex": null,
            "flex_flow": null,
            "grid_area": null,
            "grid_auto_columns": null,
            "grid_auto_flow": null,
            "grid_auto_rows": null,
            "grid_column": null,
            "grid_gap": null,
            "grid_row": null,
            "grid_template_areas": null,
            "grid_template_columns": null,
            "grid_template_rows": null,
            "height": null,
            "justify_content": null,
            "justify_items": null,
            "left": null,
            "margin": null,
            "max_height": null,
            "max_width": null,
            "min_height": null,
            "min_width": null,
            "object_fit": null,
            "object_position": null,
            "order": null,
            "overflow": null,
            "overflow_x": null,
            "overflow_y": null,
            "padding": null,
            "right": null,
            "top": null,
            "visibility": null,
            "width": null
          }
        },
        "6b0f9dd6014d4a63adb5d85d93c6b2af": {
          "model_module": "@jupyter-widgets/controls",
          "model_name": "ProgressStyleModel",
          "model_module_version": "1.5.0",
          "state": {
            "_model_module": "@jupyter-widgets/controls",
            "_model_module_version": "1.5.0",
            "_model_name": "ProgressStyleModel",
            "_view_count": null,
            "_view_module": "@jupyter-widgets/base",
            "_view_module_version": "1.2.0",
            "_view_name": "StyleView",
            "bar_color": null,
            "description_width": ""
          }
        },
        "5820a025a44f417a8cab72ba243a55d2": {
          "model_module": "@jupyter-widgets/base",
          "model_name": "LayoutModel",
          "model_module_version": "1.2.0",
          "state": {
            "_model_module": "@jupyter-widgets/base",
            "_model_module_version": "1.2.0",
            "_model_name": "LayoutModel",
            "_view_count": null,
            "_view_module": "@jupyter-widgets/base",
            "_view_module_version": "1.2.0",
            "_view_name": "LayoutView",
            "align_content": null,
            "align_items": null,
            "align_self": null,
            "border": null,
            "bottom": null,
            "display": null,
            "flex": null,
            "flex_flow": null,
            "grid_area": null,
            "grid_auto_columns": null,
            "grid_auto_flow": null,
            "grid_auto_rows": null,
            "grid_column": null,
            "grid_gap": null,
            "grid_row": null,
            "grid_template_areas": null,
            "grid_template_columns": null,
            "grid_template_rows": null,
            "height": null,
            "justify_content": null,
            "justify_items": null,
            "left": null,
            "margin": null,
            "max_height": null,
            "max_width": null,
            "min_height": null,
            "min_width": null,
            "object_fit": null,
            "object_position": null,
            "order": null,
            "overflow": null,
            "overflow_x": null,
            "overflow_y": null,
            "padding": null,
            "right": null,
            "top": null,
            "visibility": null,
            "width": null
          }
        },
        "6e6e668844014da4be5713c15f0a6869": {
          "model_module": "@jupyter-widgets/controls",
          "model_name": "DescriptionStyleModel",
          "model_module_version": "1.5.0",
          "state": {
            "_model_module": "@jupyter-widgets/controls",
            "_model_module_version": "1.5.0",
            "_model_name": "DescriptionStyleModel",
            "_view_count": null,
            "_view_module": "@jupyter-widgets/base",
            "_view_module_version": "1.2.0",
            "_view_name": "StyleView",
            "description_width": ""
          }
        },
        "8c8cae84332b4fa1bbd622034000f3a0": {
          "model_module": "@jupyter-widgets/controls",
          "model_name": "HBoxModel",
          "model_module_version": "1.5.0",
          "state": {
            "_dom_classes": [],
            "_model_module": "@jupyter-widgets/controls",
            "_model_module_version": "1.5.0",
            "_model_name": "HBoxModel",
            "_view_count": null,
            "_view_module": "@jupyter-widgets/controls",
            "_view_module_version": "1.5.0",
            "_view_name": "HBoxView",
            "box_style": "",
            "children": [
              "IPY_MODEL_c221fefd297343abb74b0a08c6438df4",
              "IPY_MODEL_da3a8137278d499d95472cad77a09dcf",
              "IPY_MODEL_88a76bb1d2bb42b1b288567de3f58c0f"
            ],
            "layout": "IPY_MODEL_64b28cb4b7a64e9fa7b3b8f10aa34f99"
          }
        },
        "c221fefd297343abb74b0a08c6438df4": {
          "model_module": "@jupyter-widgets/controls",
          "model_name": "HTMLModel",
          "model_module_version": "1.5.0",
          "state": {
            "_dom_classes": [],
            "_model_module": "@jupyter-widgets/controls",
            "_model_module_version": "1.5.0",
            "_model_name": "HTMLModel",
            "_view_count": null,
            "_view_module": "@jupyter-widgets/controls",
            "_view_module_version": "1.5.0",
            "_view_name": "HTMLView",
            "description": "",
            "description_tooltip": null,
            "layout": "IPY_MODEL_f850a272fd554fe68c72f98b131dcb14",
            "placeholder": "​",
            "style": "IPY_MODEL_86e82a8918554b81bfe9e1bdd7c6a6bf",
            "value": "100%"
          }
        },
        "da3a8137278d499d95472cad77a09dcf": {
          "model_module": "@jupyter-widgets/controls",
          "model_name": "FloatProgressModel",
          "model_module_version": "1.5.0",
          "state": {
            "_dom_classes": [],
            "_model_module": "@jupyter-widgets/controls",
            "_model_module_version": "1.5.0",
            "_model_name": "FloatProgressModel",
            "_view_count": null,
            "_view_module": "@jupyter-widgets/controls",
            "_view_module_version": "1.5.0",
            "_view_name": "ProgressView",
            "bar_style": "success",
            "description": "",
            "description_tooltip": null,
            "layout": "IPY_MODEL_73598cd518384df096e46704d3369362",
            "max": 2,
            "min": 0,
            "orientation": "horizontal",
            "style": "IPY_MODEL_d34bc900130149898b7915806fd3a3b3",
            "value": 2
          }
        },
        "88a76bb1d2bb42b1b288567de3f58c0f": {
          "model_module": "@jupyter-widgets/controls",
          "model_name": "HTMLModel",
          "model_module_version": "1.5.0",
          "state": {
            "_dom_classes": [],
            "_model_module": "@jupyter-widgets/controls",
            "_model_module_version": "1.5.0",
            "_model_name": "HTMLModel",
            "_view_count": null,
            "_view_module": "@jupyter-widgets/controls",
            "_view_module_version": "1.5.0",
            "_view_name": "HTMLView",
            "description": "",
            "description_tooltip": null,
            "layout": "IPY_MODEL_59c178782d894a5aaa8d089069ef655d",
            "placeholder": "​",
            "style": "IPY_MODEL_c57a757b5f5844918085abe4cbae30f2",
            "value": " 2/2 [00:00&lt;00:00, 26.19it/s]"
          }
        },
        "64b28cb4b7a64e9fa7b3b8f10aa34f99": {
          "model_module": "@jupyter-widgets/base",
          "model_name": "LayoutModel",
          "model_module_version": "1.2.0",
          "state": {
            "_model_module": "@jupyter-widgets/base",
            "_model_module_version": "1.2.0",
            "_model_name": "LayoutModel",
            "_view_count": null,
            "_view_module": "@jupyter-widgets/base",
            "_view_module_version": "1.2.0",
            "_view_name": "LayoutView",
            "align_content": null,
            "align_items": null,
            "align_self": null,
            "border": null,
            "bottom": null,
            "display": null,
            "flex": null,
            "flex_flow": null,
            "grid_area": null,
            "grid_auto_columns": null,
            "grid_auto_flow": null,
            "grid_auto_rows": null,
            "grid_column": null,
            "grid_gap": null,
            "grid_row": null,
            "grid_template_areas": null,
            "grid_template_columns": null,
            "grid_template_rows": null,
            "height": null,
            "justify_content": null,
            "justify_items": null,
            "left": null,
            "margin": null,
            "max_height": null,
            "max_width": null,
            "min_height": null,
            "min_width": null,
            "object_fit": null,
            "object_position": null,
            "order": null,
            "overflow": null,
            "overflow_x": null,
            "overflow_y": null,
            "padding": null,
            "right": null,
            "top": null,
            "visibility": null,
            "width": null
          }
        },
        "f850a272fd554fe68c72f98b131dcb14": {
          "model_module": "@jupyter-widgets/base",
          "model_name": "LayoutModel",
          "model_module_version": "1.2.0",
          "state": {
            "_model_module": "@jupyter-widgets/base",
            "_model_module_version": "1.2.0",
            "_model_name": "LayoutModel",
            "_view_count": null,
            "_view_module": "@jupyter-widgets/base",
            "_view_module_version": "1.2.0",
            "_view_name": "LayoutView",
            "align_content": null,
            "align_items": null,
            "align_self": null,
            "border": null,
            "bottom": null,
            "display": null,
            "flex": null,
            "flex_flow": null,
            "grid_area": null,
            "grid_auto_columns": null,
            "grid_auto_flow": null,
            "grid_auto_rows": null,
            "grid_column": null,
            "grid_gap": null,
            "grid_row": null,
            "grid_template_areas": null,
            "grid_template_columns": null,
            "grid_template_rows": null,
            "height": null,
            "justify_content": null,
            "justify_items": null,
            "left": null,
            "margin": null,
            "max_height": null,
            "max_width": null,
            "min_height": null,
            "min_width": null,
            "object_fit": null,
            "object_position": null,
            "order": null,
            "overflow": null,
            "overflow_x": null,
            "overflow_y": null,
            "padding": null,
            "right": null,
            "top": null,
            "visibility": null,
            "width": null
          }
        },
        "86e82a8918554b81bfe9e1bdd7c6a6bf": {
          "model_module": "@jupyter-widgets/controls",
          "model_name": "DescriptionStyleModel",
          "model_module_version": "1.5.0",
          "state": {
            "_model_module": "@jupyter-widgets/controls",
            "_model_module_version": "1.5.0",
            "_model_name": "DescriptionStyleModel",
            "_view_count": null,
            "_view_module": "@jupyter-widgets/base",
            "_view_module_version": "1.2.0",
            "_view_name": "StyleView",
            "description_width": ""
          }
        },
        "73598cd518384df096e46704d3369362": {
          "model_module": "@jupyter-widgets/base",
          "model_name": "LayoutModel",
          "model_module_version": "1.2.0",
          "state": {
            "_model_module": "@jupyter-widgets/base",
            "_model_module_version": "1.2.0",
            "_model_name": "LayoutModel",
            "_view_count": null,
            "_view_module": "@jupyter-widgets/base",
            "_view_module_version": "1.2.0",
            "_view_name": "LayoutView",
            "align_content": null,
            "align_items": null,
            "align_self": null,
            "border": null,
            "bottom": null,
            "display": null,
            "flex": null,
            "flex_flow": null,
            "grid_area": null,
            "grid_auto_columns": null,
            "grid_auto_flow": null,
            "grid_auto_rows": null,
            "grid_column": null,
            "grid_gap": null,
            "grid_row": null,
            "grid_template_areas": null,
            "grid_template_columns": null,
            "grid_template_rows": null,
            "height": null,
            "justify_content": null,
            "justify_items": null,
            "left": null,
            "margin": null,
            "max_height": null,
            "max_width": null,
            "min_height": null,
            "min_width": null,
            "object_fit": null,
            "object_position": null,
            "order": null,
            "overflow": null,
            "overflow_x": null,
            "overflow_y": null,
            "padding": null,
            "right": null,
            "top": null,
            "visibility": null,
            "width": null
          }
        },
        "d34bc900130149898b7915806fd3a3b3": {
          "model_module": "@jupyter-widgets/controls",
          "model_name": "ProgressStyleModel",
          "model_module_version": "1.5.0",
          "state": {
            "_model_module": "@jupyter-widgets/controls",
            "_model_module_version": "1.5.0",
            "_model_name": "ProgressStyleModel",
            "_view_count": null,
            "_view_module": "@jupyter-widgets/base",
            "_view_module_version": "1.2.0",
            "_view_name": "StyleView",
            "bar_color": null,
            "description_width": ""
          }
        },
        "59c178782d894a5aaa8d089069ef655d": {
          "model_module": "@jupyter-widgets/base",
          "model_name": "LayoutModel",
          "model_module_version": "1.2.0",
          "state": {
            "_model_module": "@jupyter-widgets/base",
            "_model_module_version": "1.2.0",
            "_model_name": "LayoutModel",
            "_view_count": null,
            "_view_module": "@jupyter-widgets/base",
            "_view_module_version": "1.2.0",
            "_view_name": "LayoutView",
            "align_content": null,
            "align_items": null,
            "align_self": null,
            "border": null,
            "bottom": null,
            "display": null,
            "flex": null,
            "flex_flow": null,
            "grid_area": null,
            "grid_auto_columns": null,
            "grid_auto_flow": null,
            "grid_auto_rows": null,
            "grid_column": null,
            "grid_gap": null,
            "grid_row": null,
            "grid_template_areas": null,
            "grid_template_columns": null,
            "grid_template_rows": null,
            "height": null,
            "justify_content": null,
            "justify_items": null,
            "left": null,
            "margin": null,
            "max_height": null,
            "max_width": null,
            "min_height": null,
            "min_width": null,
            "object_fit": null,
            "object_position": null,
            "order": null,
            "overflow": null,
            "overflow_x": null,
            "overflow_y": null,
            "padding": null,
            "right": null,
            "top": null,
            "visibility": null,
            "width": null
          }
        },
        "c57a757b5f5844918085abe4cbae30f2": {
          "model_module": "@jupyter-widgets/controls",
          "model_name": "DescriptionStyleModel",
          "model_module_version": "1.5.0",
          "state": {
            "_model_module": "@jupyter-widgets/controls",
            "_model_module_version": "1.5.0",
            "_model_name": "DescriptionStyleModel",
            "_view_count": null,
            "_view_module": "@jupyter-widgets/base",
            "_view_module_version": "1.2.0",
            "_view_name": "StyleView",
            "description_width": ""
          }
        },
        "8491c441c5a3488aa1a29a6ba638efe7": {
          "model_module": "@jupyter-widgets/output",
          "model_name": "OutputModel",
          "model_module_version": "1.0.0",
          "state": {
            "_dom_classes": [],
            "_model_module": "@jupyter-widgets/output",
            "_model_module_version": "1.0.0",
            "_model_name": "OutputModel",
            "_view_count": null,
            "_view_module": "@jupyter-widgets/output",
            "_view_module_version": "1.0.0",
            "_view_name": "OutputView",
            "layout": "IPY_MODEL_b99587dd83234cedb99830e3b6e0b511",
            "msg_id": "",
            "outputs": [
              {
                "output_type": "display_data",
                "data": {
                  "text/plain": "Epoch 4/4  \u001b[38;2;98;6;224m━━━━━━━━━━━━━━━━━━━━━━━━━━━━━━━━\u001b[0m \u001b[37m2602/2602\u001b[0m \u001b[38;5;245m0:14:01 • 0:00:00\u001b[0m \u001b[38;5;249m5.81it/s\u001b[0m \u001b[37mloss: 0.016 train/2m_temperature: \u001b[0m\n                                                                                 \u001b[37m0.016 train/loss: 0.016           \u001b[0m\n",
                  "text/html": "<pre style=\"white-space:pre;overflow-x:auto;line-height:normal;font-family:Menlo,'DejaVu Sans Mono',consolas,'Courier New',monospace\">Epoch 4/4  <span style=\"color: #6206e0; text-decoration-color: #6206e0\">━━━━━━━━━━━━━━━━━━━━━━━━━━━━━━━━</span> <span style=\"color: #c0c0c0; text-decoration-color: #c0c0c0\">2602/2602</span> <span style=\"color: #8a8a8a; text-decoration-color: #8a8a8a\">0:14:01 • 0:00:00</span> <span style=\"color: #b2b2b2; text-decoration-color: #b2b2b2\">5.81it/s</span> <span style=\"color: #c0c0c0; text-decoration-color: #c0c0c0\">loss: 0.016 train/2m_temperature: </span>\n                                                                                 <span style=\"color: #c0c0c0; text-decoration-color: #c0c0c0\">0.016 train/loss: 0.016           </span>\n</pre>\n"
                },
                "metadata": {}
              }
            ]
          }
        },
        "b99587dd83234cedb99830e3b6e0b511": {
          "model_module": "@jupyter-widgets/base",
          "model_name": "LayoutModel",
          "model_module_version": "1.2.0",
          "state": {
            "_model_module": "@jupyter-widgets/base",
            "_model_module_version": "1.2.0",
            "_model_name": "LayoutModel",
            "_view_count": null,
            "_view_module": "@jupyter-widgets/base",
            "_view_module_version": "1.2.0",
            "_view_name": "LayoutView",
            "align_content": null,
            "align_items": null,
            "align_self": null,
            "border": null,
            "bottom": null,
            "display": null,
            "flex": null,
            "flex_flow": null,
            "grid_area": null,
            "grid_auto_columns": null,
            "grid_auto_flow": null,
            "grid_auto_rows": null,
            "grid_column": null,
            "grid_gap": null,
            "grid_row": null,
            "grid_template_areas": null,
            "grid_template_columns": null,
            "grid_template_rows": null,
            "height": null,
            "justify_content": null,
            "justify_items": null,
            "left": null,
            "margin": null,
            "max_height": null,
            "max_width": null,
            "min_height": null,
            "min_width": null,
            "object_fit": null,
            "object_position": null,
            "order": null,
            "overflow": null,
            "overflow_x": null,
            "overflow_y": null,
            "padding": null,
            "right": null,
            "top": null,
            "visibility": null,
            "width": null
          }
        },
        "e587e705b83e439389b984fc89312232": {
          "model_module": "@jupyter-widgets/output",
          "model_name": "OutputModel",
          "model_module_version": "1.0.0",
          "state": {
            "_dom_classes": [],
            "_model_module": "@jupyter-widgets/output",
            "_model_module_version": "1.0.0",
            "_model_name": "OutputModel",
            "_view_count": null,
            "_view_module": "@jupyter-widgets/output",
            "_view_module_version": "1.0.0",
            "_view_name": "OutputView",
            "layout": "IPY_MODEL_745ff522ee1a44cf88af1f4999c1a12e",
            "msg_id": "",
            "outputs": [
              {
                "output_type": "display_data",
                "data": {
                  "text/plain": "\u001b[37mTesting\u001b[0m \u001b[38;2;98;6;224m━━━━━━━━━━━━━━━━━━━━━━━━━━━━━━━━━━━━━━━━\u001b[0m \u001b[37m137/137\u001b[0m \u001b[38;5;245m0:00:17 • 0:00:00\u001b[0m \u001b[38;5;249m8.03it/s\u001b[0m  \n",
                  "text/html": "<pre style=\"white-space:pre;overflow-x:auto;line-height:normal;font-family:Menlo,'DejaVu Sans Mono',consolas,'Courier New',monospace\"><span style=\"color: #c0c0c0; text-decoration-color: #c0c0c0\">Testing</span> <span style=\"color: #6206e0; text-decoration-color: #6206e0\">━━━━━━━━━━━━━━━━━━━━━━━━━━━━━━━━━━━━━━━━</span> <span style=\"color: #c0c0c0; text-decoration-color: #c0c0c0\">137/137</span> <span style=\"color: #8a8a8a; text-decoration-color: #8a8a8a\">0:00:17 • 0:00:00</span> <span style=\"color: #b2b2b2; text-decoration-color: #b2b2b2\">8.03it/s</span>  \n</pre>\n"
                },
                "metadata": {}
              }
            ]
          }
        },
        "745ff522ee1a44cf88af1f4999c1a12e": {
          "model_module": "@jupyter-widgets/base",
          "model_name": "LayoutModel",
          "model_module_version": "1.2.0",
          "state": {
            "_model_module": "@jupyter-widgets/base",
            "_model_module_version": "1.2.0",
            "_model_name": "LayoutModel",
            "_view_count": null,
            "_view_module": "@jupyter-widgets/base",
            "_view_module_version": "1.2.0",
            "_view_name": "LayoutView",
            "align_content": null,
            "align_items": null,
            "align_self": null,
            "border": null,
            "bottom": null,
            "display": null,
            "flex": null,
            "flex_flow": null,
            "grid_area": null,
            "grid_auto_columns": null,
            "grid_auto_flow": null,
            "grid_auto_rows": null,
            "grid_column": null,
            "grid_gap": null,
            "grid_row": null,
            "grid_template_areas": null,
            "grid_template_columns": null,
            "grid_template_rows": null,
            "height": null,
            "justify_content": null,
            "justify_items": null,
            "left": null,
            "margin": null,
            "max_height": null,
            "max_width": null,
            "min_height": null,
            "min_width": null,
            "object_fit": null,
            "object_position": null,
            "order": null,
            "overflow": null,
            "overflow_x": null,
            "overflow_y": null,
            "padding": null,
            "right": null,
            "top": null,
            "visibility": null,
            "width": null
          }
        },
        "0c606c78642e409eaa8fbbfd61e40cb8": {
          "model_module": "@jupyter-widgets/controls",
          "model_name": "HBoxModel",
          "model_module_version": "1.5.0",
          "state": {
            "_dom_classes": [],
            "_model_module": "@jupyter-widgets/controls",
            "_model_module_version": "1.5.0",
            "_model_name": "HBoxModel",
            "_view_count": null,
            "_view_module": "@jupyter-widgets/controls",
            "_view_module_version": "1.5.0",
            "_view_name": "HBoxView",
            "box_style": "",
            "children": [
              "IPY_MODEL_296b1ee324ed4e74a57c5439751d51ad",
              "IPY_MODEL_93b1dd869c564c75964e78df5cee8e30",
              "IPY_MODEL_aa6608e44fa44e518f3b10be10730bbf"
            ],
            "layout": "IPY_MODEL_5980eef837684465b893fa02a96c3d72"
          }
        },
        "296b1ee324ed4e74a57c5439751d51ad": {
          "model_module": "@jupyter-widgets/controls",
          "model_name": "HTMLModel",
          "model_module_version": "1.5.0",
          "state": {
            "_dom_classes": [],
            "_model_module": "@jupyter-widgets/controls",
            "_model_module_version": "1.5.0",
            "_model_name": "HTMLModel",
            "_view_count": null,
            "_view_module": "@jupyter-widgets/controls",
            "_view_module_version": "1.5.0",
            "_view_name": "HTMLView",
            "description": "",
            "description_tooltip": null,
            "layout": "IPY_MODEL_0a774eb505de4f028e35ccb793c7eb10",
            "placeholder": "​",
            "style": "IPY_MODEL_860c63df18a44246acab1a5d173f29b1",
            "value": "100%"
          }
        },
        "93b1dd869c564c75964e78df5cee8e30": {
          "model_module": "@jupyter-widgets/controls",
          "model_name": "FloatProgressModel",
          "model_module_version": "1.5.0",
          "state": {
            "_dom_classes": [],
            "_model_module": "@jupyter-widgets/controls",
            "_model_module_version": "1.5.0",
            "_model_name": "FloatProgressModel",
            "_view_count": null,
            "_view_module": "@jupyter-widgets/controls",
            "_view_module_version": "1.5.0",
            "_view_name": "ProgressView",
            "bar_style": "success",
            "description": "",
            "description_tooltip": null,
            "layout": "IPY_MODEL_78f0746a211842538b826f8ac027f602",
            "max": 36,
            "min": 0,
            "orientation": "horizontal",
            "style": "IPY_MODEL_fce79f603cfd4c809788b6dc1c677e85",
            "value": 36
          }
        },
        "aa6608e44fa44e518f3b10be10730bbf": {
          "model_module": "@jupyter-widgets/controls",
          "model_name": "HTMLModel",
          "model_module_version": "1.5.0",
          "state": {
            "_dom_classes": [],
            "_model_module": "@jupyter-widgets/controls",
            "_model_module_version": "1.5.0",
            "_model_name": "HTMLModel",
            "_view_count": null,
            "_view_module": "@jupyter-widgets/controls",
            "_view_module_version": "1.5.0",
            "_view_name": "HTMLView",
            "description": "",
            "description_tooltip": null,
            "layout": "IPY_MODEL_adb8287e497b41819e92cee4aa94881e",
            "placeholder": "​",
            "style": "IPY_MODEL_dd08b8b768bf46ec87902f2502d195f8",
            "value": " 36/36 [00:00&lt;00:00, 68.38it/s]"
          }
        },
        "5980eef837684465b893fa02a96c3d72": {
          "model_module": "@jupyter-widgets/base",
          "model_name": "LayoutModel",
          "model_module_version": "1.2.0",
          "state": {
            "_model_module": "@jupyter-widgets/base",
            "_model_module_version": "1.2.0",
            "_model_name": "LayoutModel",
            "_view_count": null,
            "_view_module": "@jupyter-widgets/base",
            "_view_module_version": "1.2.0",
            "_view_name": "LayoutView",
            "align_content": null,
            "align_items": null,
            "align_self": null,
            "border": null,
            "bottom": null,
            "display": null,
            "flex": null,
            "flex_flow": null,
            "grid_area": null,
            "grid_auto_columns": null,
            "grid_auto_flow": null,
            "grid_auto_rows": null,
            "grid_column": null,
            "grid_gap": null,
            "grid_row": null,
            "grid_template_areas": null,
            "grid_template_columns": null,
            "grid_template_rows": null,
            "height": null,
            "justify_content": null,
            "justify_items": null,
            "left": null,
            "margin": null,
            "max_height": null,
            "max_width": null,
            "min_height": null,
            "min_width": null,
            "object_fit": null,
            "object_position": null,
            "order": null,
            "overflow": null,
            "overflow_x": null,
            "overflow_y": null,
            "padding": null,
            "right": null,
            "top": null,
            "visibility": null,
            "width": null
          }
        },
        "0a774eb505de4f028e35ccb793c7eb10": {
          "model_module": "@jupyter-widgets/base",
          "model_name": "LayoutModel",
          "model_module_version": "1.2.0",
          "state": {
            "_model_module": "@jupyter-widgets/base",
            "_model_module_version": "1.2.0",
            "_model_name": "LayoutModel",
            "_view_count": null,
            "_view_module": "@jupyter-widgets/base",
            "_view_module_version": "1.2.0",
            "_view_name": "LayoutView",
            "align_content": null,
            "align_items": null,
            "align_self": null,
            "border": null,
            "bottom": null,
            "display": null,
            "flex": null,
            "flex_flow": null,
            "grid_area": null,
            "grid_auto_columns": null,
            "grid_auto_flow": null,
            "grid_auto_rows": null,
            "grid_column": null,
            "grid_gap": null,
            "grid_row": null,
            "grid_template_areas": null,
            "grid_template_columns": null,
            "grid_template_rows": null,
            "height": null,
            "justify_content": null,
            "justify_items": null,
            "left": null,
            "margin": null,
            "max_height": null,
            "max_width": null,
            "min_height": null,
            "min_width": null,
            "object_fit": null,
            "object_position": null,
            "order": null,
            "overflow": null,
            "overflow_x": null,
            "overflow_y": null,
            "padding": null,
            "right": null,
            "top": null,
            "visibility": null,
            "width": null
          }
        },
        "860c63df18a44246acab1a5d173f29b1": {
          "model_module": "@jupyter-widgets/controls",
          "model_name": "DescriptionStyleModel",
          "model_module_version": "1.5.0",
          "state": {
            "_model_module": "@jupyter-widgets/controls",
            "_model_module_version": "1.5.0",
            "_model_name": "DescriptionStyleModel",
            "_view_count": null,
            "_view_module": "@jupyter-widgets/base",
            "_view_module_version": "1.2.0",
            "_view_name": "StyleView",
            "description_width": ""
          }
        },
        "78f0746a211842538b826f8ac027f602": {
          "model_module": "@jupyter-widgets/base",
          "model_name": "LayoutModel",
          "model_module_version": "1.2.0",
          "state": {
            "_model_module": "@jupyter-widgets/base",
            "_model_module_version": "1.2.0",
            "_model_name": "LayoutModel",
            "_view_count": null,
            "_view_module": "@jupyter-widgets/base",
            "_view_module_version": "1.2.0",
            "_view_name": "LayoutView",
            "align_content": null,
            "align_items": null,
            "align_self": null,
            "border": null,
            "bottom": null,
            "display": null,
            "flex": null,
            "flex_flow": null,
            "grid_area": null,
            "grid_auto_columns": null,
            "grid_auto_flow": null,
            "grid_auto_rows": null,
            "grid_column": null,
            "grid_gap": null,
            "grid_row": null,
            "grid_template_areas": null,
            "grid_template_columns": null,
            "grid_template_rows": null,
            "height": null,
            "justify_content": null,
            "justify_items": null,
            "left": null,
            "margin": null,
            "max_height": null,
            "max_width": null,
            "min_height": null,
            "min_width": null,
            "object_fit": null,
            "object_position": null,
            "order": null,
            "overflow": null,
            "overflow_x": null,
            "overflow_y": null,
            "padding": null,
            "right": null,
            "top": null,
            "visibility": null,
            "width": null
          }
        },
        "fce79f603cfd4c809788b6dc1c677e85": {
          "model_module": "@jupyter-widgets/controls",
          "model_name": "ProgressStyleModel",
          "model_module_version": "1.5.0",
          "state": {
            "_model_module": "@jupyter-widgets/controls",
            "_model_module_version": "1.5.0",
            "_model_name": "ProgressStyleModel",
            "_view_count": null,
            "_view_module": "@jupyter-widgets/base",
            "_view_module_version": "1.2.0",
            "_view_name": "StyleView",
            "bar_color": null,
            "description_width": ""
          }
        },
        "adb8287e497b41819e92cee4aa94881e": {
          "model_module": "@jupyter-widgets/base",
          "model_name": "LayoutModel",
          "model_module_version": "1.2.0",
          "state": {
            "_model_module": "@jupyter-widgets/base",
            "_model_module_version": "1.2.0",
            "_model_name": "LayoutModel",
            "_view_count": null,
            "_view_module": "@jupyter-widgets/base",
            "_view_module_version": "1.2.0",
            "_view_name": "LayoutView",
            "align_content": null,
            "align_items": null,
            "align_self": null,
            "border": null,
            "bottom": null,
            "display": null,
            "flex": null,
            "flex_flow": null,
            "grid_area": null,
            "grid_auto_columns": null,
            "grid_auto_flow": null,
            "grid_auto_rows": null,
            "grid_column": null,
            "grid_gap": null,
            "grid_row": null,
            "grid_template_areas": null,
            "grid_template_columns": null,
            "grid_template_rows": null,
            "height": null,
            "justify_content": null,
            "justify_items": null,
            "left": null,
            "margin": null,
            "max_height": null,
            "max_width": null,
            "min_height": null,
            "min_width": null,
            "object_fit": null,
            "object_position": null,
            "order": null,
            "overflow": null,
            "overflow_x": null,
            "overflow_y": null,
            "padding": null,
            "right": null,
            "top": null,
            "visibility": null,
            "width": null
          }
        },
        "dd08b8b768bf46ec87902f2502d195f8": {
          "model_module": "@jupyter-widgets/controls",
          "model_name": "DescriptionStyleModel",
          "model_module_version": "1.5.0",
          "state": {
            "_model_module": "@jupyter-widgets/controls",
            "_model_module_version": "1.5.0",
            "_model_name": "DescriptionStyleModel",
            "_view_count": null,
            "_view_module": "@jupyter-widgets/base",
            "_view_module_version": "1.2.0",
            "_view_name": "StyleView",
            "description_width": ""
          }
        },
        "bd729e5f9eba4121b3e14e9112128463": {
          "model_module": "@jupyter-widgets/controls",
          "model_name": "HBoxModel",
          "model_module_version": "1.5.0",
          "state": {
            "_dom_classes": [],
            "_model_module": "@jupyter-widgets/controls",
            "_model_module_version": "1.5.0",
            "_model_name": "HBoxModel",
            "_view_count": null,
            "_view_module": "@jupyter-widgets/controls",
            "_view_module_version": "1.5.0",
            "_view_name": "HBoxView",
            "box_style": "",
            "children": [
              "IPY_MODEL_047fb6f7e92a42ce8555bed88f61039b",
              "IPY_MODEL_189785d86fdd45b9be5d99b703666667",
              "IPY_MODEL_fee0eb7f0aa24a8990d8ebb32a13886d"
            ],
            "layout": "IPY_MODEL_3c04dc5a23bb41bda7e3141174478d18"
          }
        },
        "047fb6f7e92a42ce8555bed88f61039b": {
          "model_module": "@jupyter-widgets/controls",
          "model_name": "HTMLModel",
          "model_module_version": "1.5.0",
          "state": {
            "_dom_classes": [],
            "_model_module": "@jupyter-widgets/controls",
            "_model_module_version": "1.5.0",
            "_model_name": "HTMLModel",
            "_view_count": null,
            "_view_module": "@jupyter-widgets/controls",
            "_view_module_version": "1.5.0",
            "_view_name": "HTMLView",
            "description": "",
            "description_tooltip": null,
            "layout": "IPY_MODEL_c1e2f5098c754170b04607c2b2160ed4",
            "placeholder": "​",
            "style": "IPY_MODEL_48d8c84aad4245a795806eeb8d0f41f7",
            "value": " 19%"
          }
        },
        "189785d86fdd45b9be5d99b703666667": {
          "model_module": "@jupyter-widgets/controls",
          "model_name": "FloatProgressModel",
          "model_module_version": "1.5.0",
          "state": {
            "_dom_classes": [],
            "_model_module": "@jupyter-widgets/controls",
            "_model_module_version": "1.5.0",
            "_model_name": "FloatProgressModel",
            "_view_count": null,
            "_view_module": "@jupyter-widgets/controls",
            "_view_module_version": "1.5.0",
            "_view_name": "ProgressView",
            "bar_style": "",
            "description": "",
            "description_tooltip": null,
            "layout": "IPY_MODEL_c116da5970b24b2aab01a34b40bbe435",
            "max": 36,
            "min": 0,
            "orientation": "horizontal",
            "style": "IPY_MODEL_32e28adfdae347a3889baa2750af8f8f",
            "value": 7
          }
        },
        "fee0eb7f0aa24a8990d8ebb32a13886d": {
          "model_module": "@jupyter-widgets/controls",
          "model_name": "HTMLModel",
          "model_module_version": "1.5.0",
          "state": {
            "_dom_classes": [],
            "_model_module": "@jupyter-widgets/controls",
            "_model_module_version": "1.5.0",
            "_model_name": "HTMLModel",
            "_view_count": null,
            "_view_module": "@jupyter-widgets/controls",
            "_view_module_version": "1.5.0",
            "_view_name": "HTMLView",
            "description": "",
            "description_tooltip": null,
            "layout": "IPY_MODEL_a0ebac03ea924fdb9dcea3adf19e2f8c",
            "placeholder": "​",
            "style": "IPY_MODEL_eba08fcafd6b45ec802bccf2e0aa4fb7",
            "value": " 7/36 [00:15&lt;00:58,  2.00s/it]"
          }
        },
        "3c04dc5a23bb41bda7e3141174478d18": {
          "model_module": "@jupyter-widgets/base",
          "model_name": "LayoutModel",
          "model_module_version": "1.2.0",
          "state": {
            "_model_module": "@jupyter-widgets/base",
            "_model_module_version": "1.2.0",
            "_model_name": "LayoutModel",
            "_view_count": null,
            "_view_module": "@jupyter-widgets/base",
            "_view_module_version": "1.2.0",
            "_view_name": "LayoutView",
            "align_content": null,
            "align_items": null,
            "align_self": null,
            "border": null,
            "bottom": null,
            "display": null,
            "flex": null,
            "flex_flow": null,
            "grid_area": null,
            "grid_auto_columns": null,
            "grid_auto_flow": null,
            "grid_auto_rows": null,
            "grid_column": null,
            "grid_gap": null,
            "grid_row": null,
            "grid_template_areas": null,
            "grid_template_columns": null,
            "grid_template_rows": null,
            "height": null,
            "justify_content": null,
            "justify_items": null,
            "left": null,
            "margin": null,
            "max_height": null,
            "max_width": null,
            "min_height": null,
            "min_width": null,
            "object_fit": null,
            "object_position": null,
            "order": null,
            "overflow": null,
            "overflow_x": null,
            "overflow_y": null,
            "padding": null,
            "right": null,
            "top": null,
            "visibility": null,
            "width": null
          }
        },
        "c1e2f5098c754170b04607c2b2160ed4": {
          "model_module": "@jupyter-widgets/base",
          "model_name": "LayoutModel",
          "model_module_version": "1.2.0",
          "state": {
            "_model_module": "@jupyter-widgets/base",
            "_model_module_version": "1.2.0",
            "_model_name": "LayoutModel",
            "_view_count": null,
            "_view_module": "@jupyter-widgets/base",
            "_view_module_version": "1.2.0",
            "_view_name": "LayoutView",
            "align_content": null,
            "align_items": null,
            "align_self": null,
            "border": null,
            "bottom": null,
            "display": null,
            "flex": null,
            "flex_flow": null,
            "grid_area": null,
            "grid_auto_columns": null,
            "grid_auto_flow": null,
            "grid_auto_rows": null,
            "grid_column": null,
            "grid_gap": null,
            "grid_row": null,
            "grid_template_areas": null,
            "grid_template_columns": null,
            "grid_template_rows": null,
            "height": null,
            "justify_content": null,
            "justify_items": null,
            "left": null,
            "margin": null,
            "max_height": null,
            "max_width": null,
            "min_height": null,
            "min_width": null,
            "object_fit": null,
            "object_position": null,
            "order": null,
            "overflow": null,
            "overflow_x": null,
            "overflow_y": null,
            "padding": null,
            "right": null,
            "top": null,
            "visibility": null,
            "width": null
          }
        },
        "48d8c84aad4245a795806eeb8d0f41f7": {
          "model_module": "@jupyter-widgets/controls",
          "model_name": "DescriptionStyleModel",
          "model_module_version": "1.5.0",
          "state": {
            "_model_module": "@jupyter-widgets/controls",
            "_model_module_version": "1.5.0",
            "_model_name": "DescriptionStyleModel",
            "_view_count": null,
            "_view_module": "@jupyter-widgets/base",
            "_view_module_version": "1.2.0",
            "_view_name": "StyleView",
            "description_width": ""
          }
        },
        "c116da5970b24b2aab01a34b40bbe435": {
          "model_module": "@jupyter-widgets/base",
          "model_name": "LayoutModel",
          "model_module_version": "1.2.0",
          "state": {
            "_model_module": "@jupyter-widgets/base",
            "_model_module_version": "1.2.0",
            "_model_name": "LayoutModel",
            "_view_count": null,
            "_view_module": "@jupyter-widgets/base",
            "_view_module_version": "1.2.0",
            "_view_name": "LayoutView",
            "align_content": null,
            "align_items": null,
            "align_self": null,
            "border": null,
            "bottom": null,
            "display": null,
            "flex": null,
            "flex_flow": null,
            "grid_area": null,
            "grid_auto_columns": null,
            "grid_auto_flow": null,
            "grid_auto_rows": null,
            "grid_column": null,
            "grid_gap": null,
            "grid_row": null,
            "grid_template_areas": null,
            "grid_template_columns": null,
            "grid_template_rows": null,
            "height": null,
            "justify_content": null,
            "justify_items": null,
            "left": null,
            "margin": null,
            "max_height": null,
            "max_width": null,
            "min_height": null,
            "min_width": null,
            "object_fit": null,
            "object_position": null,
            "order": null,
            "overflow": null,
            "overflow_x": null,
            "overflow_y": null,
            "padding": null,
            "right": null,
            "top": null,
            "visibility": null,
            "width": null
          }
        },
        "32e28adfdae347a3889baa2750af8f8f": {
          "model_module": "@jupyter-widgets/controls",
          "model_name": "ProgressStyleModel",
          "model_module_version": "1.5.0",
          "state": {
            "_model_module": "@jupyter-widgets/controls",
            "_model_module_version": "1.5.0",
            "_model_name": "ProgressStyleModel",
            "_view_count": null,
            "_view_module": "@jupyter-widgets/base",
            "_view_module_version": "1.2.0",
            "_view_name": "StyleView",
            "bar_color": null,
            "description_width": ""
          }
        },
        "a0ebac03ea924fdb9dcea3adf19e2f8c": {
          "model_module": "@jupyter-widgets/base",
          "model_name": "LayoutModel",
          "model_module_version": "1.2.0",
          "state": {
            "_model_module": "@jupyter-widgets/base",
            "_model_module_version": "1.2.0",
            "_model_name": "LayoutModel",
            "_view_count": null,
            "_view_module": "@jupyter-widgets/base",
            "_view_module_version": "1.2.0",
            "_view_name": "LayoutView",
            "align_content": null,
            "align_items": null,
            "align_self": null,
            "border": null,
            "bottom": null,
            "display": null,
            "flex": null,
            "flex_flow": null,
            "grid_area": null,
            "grid_auto_columns": null,
            "grid_auto_flow": null,
            "grid_auto_rows": null,
            "grid_column": null,
            "grid_gap": null,
            "grid_row": null,
            "grid_template_areas": null,
            "grid_template_columns": null,
            "grid_template_rows": null,
            "height": null,
            "justify_content": null,
            "justify_items": null,
            "left": null,
            "margin": null,
            "max_height": null,
            "max_width": null,
            "min_height": null,
            "min_width": null,
            "object_fit": null,
            "object_position": null,
            "order": null,
            "overflow": null,
            "overflow_x": null,
            "overflow_y": null,
            "padding": null,
            "right": null,
            "top": null,
            "visibility": null,
            "width": null
          }
        },
        "eba08fcafd6b45ec802bccf2e0aa4fb7": {
          "model_module": "@jupyter-widgets/controls",
          "model_name": "DescriptionStyleModel",
          "model_module_version": "1.5.0",
          "state": {
            "_model_module": "@jupyter-widgets/controls",
            "_model_module_version": "1.5.0",
            "_model_name": "DescriptionStyleModel",
            "_view_count": null,
            "_view_module": "@jupyter-widgets/base",
            "_view_module_version": "1.2.0",
            "_view_name": "StyleView",
            "description_width": ""
          }
        }
      }
    }
  },
  "cells": [
    {
      "cell_type": "code",
      "metadata": {
        "id": "dzeHYa5GCxN7"
      },
      "source": [
        "# MIT License\n",
        "#\n",
        "#@title Copyright (c) 2021 CCAI Community Authors { display-mode: \"form\" }\n",
        "#\n",
        "# Permission is hereby granted, free of charge, to any person obtaining a\n",
        "# copy of this software and associated documentation files (the \"Software\"),\n",
        "# to deal in the Software without restriction, including without limitation\n",
        "# the rights to use, copy, modify, merge, publish, distribute, sublicense,\n",
        "# and/or sell copies of the Software, and to permit persons to whom the\n",
        "# Software is furnished to do so, subject to the following conditions:\n",
        "#\n",
        "# The above copyright notice and this permission notice shall be included in\n",
        "# all copies or substantial portions of the Software.\n",
        "#\n",
        "# THE SOFTWARE IS PROVIDED \"AS IS\", WITHOUT WARRANTY OF ANY KIND, EXPRESS OR\n",
        "# IMPLIED, INCLUDING BUT NOT LIMITED TO THE WARRANTIES OF MERCHANTABILITY,\n",
        "# FITNESS FOR A PARTICULAR PURPOSE AND NONINFRINGEMENT. IN NO EVENT SHALL\n",
        "# THE AUTHORS OR COPYRIGHT HOLDERS BE LIABLE FOR ANY CLAIM, DAMAGES OR OTHER\n",
        "# LIABILITY, WHETHER IN AN ACTION OF CONTRACT, TORT OR OTHERWISE, ARISING\n",
        "# FROM, OUT OF OR IN CONNECTION WITH THE SOFTWARE OR THE USE OR OTHER\n",
        "# DEALINGS IN THE SOFTWARE."
      ],
      "execution_count": null,
      "outputs": []
    },
    {
      "cell_type": "markdown",
      "source": [],
      "metadata": {
        "id": "nVS0NElI4NWH"
      }
    },
    {
      "cell_type": "markdown",
      "metadata": {
        "id": "13i7KQ9t-CV8"
      },
      "source": [
        "#ClimateLearn: Machine Learning for  Predicting Weather and Climate Extremes\n",
        "\n",
        "\n",
        "Author(s):\n",
        "*   Hritik Bansal, University of California Los Angeles, hbansal@g.ucla.edu\n",
        "*   Shashank Goel, University of California Los Angeles, shashankgoel@g.ucla.edu\n",
        "*   Tung Nguyen,   University of California Los Angeles, tungnd@g.ucla.edu\n",
        "*   Aditya Grover, University of California Los Angeles, adityag@cs.ucla.edu"
      ]
    },
    {
      "cell_type": "markdown",
      "metadata": {
        "id": "yNv0ANr5WcD_"
      },
      "source": [
        "# Table of Contents\n",
        "\n",
        "*   [Target Audience](#target-audience)\n",
        "*   [Overview](#overview)\n",
        "*   [Contributions](#contributions)\n",
        "*   [Software Requirements](software-requirements)\n",
        "*   [Data Source](data-source)\n",
        "*   [Temporal Forecasting](temporal-forecasting)\n",
        "*   [Spatial Downscaling](spatial-downscaling)"
      ]
    },
    {
      "cell_type": "markdown",
      "metadata": {
        "id": "o5sbM_JPpdMR"
      },
      "source": [
        "<a name=\"target-audience\"></a>\n",
        "# Target Audience\n",
        "\n",
        "\n",
        "*   Climate scientists seeking to explore ML tools, technologies, and resources to tackle a domain-specific problem in climate change.\n",
        "*   Data scientists with prior background in deep learning looking for concrete examples on how to model climate extremes using AI."
      ]
    },
    {
      "cell_type": "markdown",
      "metadata": {
        "id": "QH81wjfsJsv1"
      },
      "source": [
        "<a name=\"overview\"></a>\n",
        "# Overview\n",
        "\n",
        "Climate change has led to a rapid increase in the occurrence of extreme weather events globally, including floods, droughts, and wildfires. In the longer term, some regions will experience aridification while others will risk sinking due to rising sea levels. Typically, such predictions are done via weather and climate models that simulate the physical interactions between the atmospheric, oceanic, and land surface processes that operate at different scales. Due to the inherent complexity, these climate models can be inaccurate or computationally expensive to run, especially for detecting climate extremes at high spatiotemporal resolutions. In this tutorial, we aim to introduce the participants to machine learning approaches for addressing two fundamental challenges:\n",
        "\n",
        "(1) **Temporal Forecasting**: The goal is to predict climate variables into the future. \\\n",
        "(2) **Spatial Downscaling**: The goal is to learn a mapping that transforms low-resolution outputs of climate models into high-resolution regional forecasts.\n",
        "\n",
        "We illustrate the two key challenges in predicting temperature, a key indicator of global warming levels around the world, in the figure below. Given a temperature grid at a particular resolution **R** at a time stamp **T**, temporal forecasting focuses on predicting the temperature at a future time stamp **T+H** where **H** is the prediction horizon whereas the climate downscaling focuses on predicting the temperature at the same timestep T but at a higher resolution **(R' > R)**."
      ]
    },
    {
      "cell_type": "markdown",
      "source": [
        "<a name=\"contributions\"></a>\n",
        "# Contributions\n",
        "\n",
        "Through introductory presentations and colab notebooks, we aim to expose the participants to:\n",
        "\n",
        "(a) **APIs** for accessing and navigating popular repositories that host global climate data, such as the Copernicus data store. \\\n",
        "(b) Identifying **relevant datasets** and providing functionality to preprocess them. \\\n",
        "(c) **Algorithms** for training machine learning models. \\\n",
        "(d) **Metrics** for evaluating model performance. \\\n",
        "(e) **Visualization** tools for both the dataset and predicted outputs."
      ],
      "metadata": {
        "id": "O-YYAVH-V6ds"
      }
    },
    {
      "cell_type": "markdown",
      "metadata": {
        "id": "rSRCNgYzUwaf"
      },
      "source": [
        "<a name=\"software-requirements\"></a>\n",
        "# Software Requirements\n",
        "This notebook requires the following libraries:\n",
        "*   climate_learn (pip)\n",
        "\n",
        "`climate_learn` contains the source files used for modeling climate extremes.\n",
        "\n",
        "The package is written using `PyTorch` machine learning library."
      ]
    },
    {
      "cell_type": "code",
      "source": [
        "%%capture\n",
        "!pip install git+https://github.com/tung-nd/climate_learn.git"
      ],
      "metadata": {
        "id": "rPmHl-TV8XMc"
      },
      "execution_count": null,
      "outputs": []
    },
    {
      "cell_type": "code",
      "source": [
        "from google.colab import drive\n",
        "drive.mount('/content/drive')\n",
        "!pwd\n",
        "\n"
      ],
      "metadata": {
        "id": "EiLZdsHB3L79"
      },
      "execution_count": null,
      "outputs": []
    },
    {
      "cell_type": "markdown",
      "source": [
        "<a name=\"data-source\"></a>\n",
        "# Data Source\n",
        "\n",
        "[1] provides a comprehensive list of typical datasets and benchmarks for weather prediction.\n",
        "\n",
        "Among the list of popular datasets, we focus this tutorial on the **ERA5** dataset that provides an hourly estimate of a large number of atmospheric, land and oceanic climate variables.\n",
        "\n",
        "<br>\n",
        "<center><img src=\"https://cds.climate.copernicus.eu/sites/default/files/cdsapp/copernicus-logo.png\" width=300></center>\n",
        "<br>\n",
        "\n",
        "ERA5 consists of the climate variable data from 1959 to present. The ERA5 dataset is freely-accessible to the community on the Climate Data Store [(CDS)](https://cds.climate.copernicus.eu/#!/search?text=ERA5&type=dataset) hosted by the European Union's Earth observation programme, [Copernicus](https://www.copernicus.eu/en/about-copernicus).  The users can visit [https://cds.climate.copernicus.eu/api-how-to](https://cds.climate.copernicus.eu/api-how-to#install-the-cds-api-key) to install the CDS API key required to access their data.\n",
        "\n",
        "\n",
        "\n",
        "\n",
        "The authors from [2] (WeatherBench dataset) downloaded the ERA5 data from CDS API for a subset of climate variable and preprocessed it at multiple resolutions. The data is freely accessible to anyone at [https://dataserv.ub.tum.de/index.php/s/m1524895?path=%2F](https://dataserv.ub.tum.de/index.php/s/m1524895?path=%2F).\n",
        "\n",
        "<br>\n",
        "<center><img src=\"https://github.com/ai4environment/WeatherBench/raw/master/figures/logo_text_left.png?raw=true\" width=500></center>\n",
        "<br>\n",
        "\n",
        "_Our package provides the users with a way to download data from ERA5 as well as WeatherBench depending upon their application._\n",
        "\n",
        "\n",
        "\n",
        "<br/><br/>\n",
        "\n",
        "**References:**\n",
        "\n",
        "[1] Ren X, Li X, Ren K, Song J, Xu Z, Deng K, Wang X. Deep learning-based weather prediction: a survey. Big Data Research. 2021 Feb 15;23:100178 [(Paper)](https://www.sciencedirect.com/science/article/pii/S2214579620300460). \\\n",
        "[2] Rasp S, Dueben PD, Scher S, Weyn JA, Mouatadid S, Thuerey N. WeatherBench: a benchmark data set for data‐driven weather forecasting. Journal of Advances in Modeling Earth Systems. 2020 Nov;12(11):e2020MS002203 [(Paper)](https://arxiv.org/abs/2002.00469)."
      ],
      "metadata": {
        "id": "rnC-ra6sayXj"
      }
    },
    {
      "cell_type": "markdown",
      "metadata": {
        "id": "99jkSa_KmrDH"
      },
      "source": [
        "<a name=\"temporal-forecasting\"></a>\n",
        "# Temporal Forecasting\n",
        "\n",
        "\n",
        "A precise and reliable weather forecasting is of great importance in various aspect of society including precipitation forecasts are essential for agricultural needs, wind speed and solar power forecasts for energy generation.\n",
        "\n",
        "<br>\n",
        "<center><img src=\"https://drive.google.com/uc?export=view&id=1_tsaaogqzkYVV0jdawnO9GCJTToW_FCi\" height=300></center>\n",
        "\n",
        "The forecasting task can be categorized into (a) **nowcasting** (timescale of a few hours), (b) weather-scale prediction (typically 1day - 1week), (c) **seasonal** prediction (typically months) and (d) **multi-year or decadal** (timescale of multiple years).\n",
        "\n",
        "In this tutorial, we shall focus on the **medium-range** weather-scale  prediction of the climate variables i.e., typically 3-5 days in the future. This colab notebook demonstrates the temporal forecasting of the *Temperature* variable at *2m* height above the earth's surface. This variable serves as a good indicator of future temperatures on the Earth's surface for the forecasters.\n",
        "\n",
        "We shall further use the 2m temperature data at 5.625 degree resolution that divides the Earth's surface into a latitude x longitude grid of 32 x 64.\n",
        "\n",
        "<br/><br/>\n",
        "\n",
        "\n",
        "\n",
        "**References:**\n",
        "1. Rasp S, Dueben PD, Scher S, Weyn JA, Mouatadid S, Thuerey N. WeatherBench: a benchmark data set for data‐driven weather forecasting. Journal of Advances in Modeling Earth Systems. 2020 Nov;12(11):e2020MS002203 [(Paper)](https://arxiv.org/abs/2002.00469).\n",
        "2. Civitarese DS, Szwarcman D, Zadrozny B, Watson C. Extreme Precipitation Seasonal Forecast Using a Transformer Neural Network. arXiv preprint arXiv:2107.06846. 2021 Jul 14. [(Paper)](https://arxiv.org/abs/2107.06846)\n",
        "3. Sønderby CK, Espeholt L, Heek J, Dehghani M, Oliver A, Salimans T, Agrawal S, Hickey J, Kalchbrenner N. Metnet: A neural weather model for precipitation forecasting. arXiv preprint arXiv:2003.12140. 2020 Mar 24. [(Paper)](https://arxiv.org/pdf/2003.12140.pdf)\n"
      ]
    },
    {
      "cell_type": "code",
      "source": [
        "from climate_learn.data import download"
      ],
      "metadata": {
        "id": "mTzr2Liw-SEv"
      },
      "execution_count": null,
      "outputs": []
    },
    {
      "cell_type": "code",
      "source": [
        "# Download data from copernicus (~15-20 mins)\n",
        "# Generate API KEY: https://cds.climate.copernicus.eu/api-how-to\n",
        "# api_key = \"154140:40d3d2e0-ed2c-4f60-8bc8-d15789841be0\" # Change to your_api_key\n",
        "# download(source = \"copernicus\", variable = \"2m_temperature\", dataset = \"era5\", year = 1979, api_key = api_key)"
      ],
      "metadata": {
        "id": "f3oQ0-pIZIgx"
      },
      "execution_count": null,
      "outputs": []
    },
    {
      "cell_type": "code",
      "source": [
        "# Download data from weatherbench (~2-3 minutes)\n",
        "download(root = \"/content/drive/MyDrive/Climate/.climate_tutorial\", source = \"weatherbench\", variable = \"2m_temperature\", dataset = \"era5\", resolution = \"5.625\")"
      ],
      "metadata": {
        "id": "QmQG73ZpQNHP",
        "colab": {
          "base_uri": "https://localhost:8080/"
        },
        "outputId": "091c1f92-07e9-49da-ca70-71bbaeac6d48"
      },
      "execution_count": null,
      "outputs": [
        {
          "output_type": "stream",
          "name": "stdout",
          "text": [
            "Downloading era5 2m_temperature data for 5.625 resolution from weatherbench to /content/drive/MyDrive/Climate/.climate_tutorial/data/weatherbench/era5/5.625/2m_temperature\n"
          ]
        }
      ]
    },
    {
      "cell_type": "markdown",
      "source": [
        "ERA5 dataset directory structure from the Weatherbench source.\n",
        "\n",
        "```\n",
        "|-- 5.625deg\n",
        "|   |-- 2m_temperature\n",
        "|       |-- 2m_temperature_1979_5.625deg.nc\n",
        "|       |-- 2m_temperature_1980_5.625deg.nc\n",
        "|       |-- ...\n",
        "|       |-- 2m_temperature_2018_5.625deg.nc\n",
        "```"
      ],
      "metadata": {
        "id": "Zb1e8ndtXiV-"
      }
    },
    {
      "cell_type": "markdown",
      "metadata": {
        "id": "bSt6h_Q-oqjK"
      },
      "source": [
        "## Data Preprocessing\n"
      ]
    },
    {
      "cell_type": "markdown",
      "source": [
        "The data is stored in the [NetCDF](https://en.wikipedia.org/wiki/NetCDF) files with _.nc_ extension. One of the distinct features of this format is the **named** specification to the coordinates and the data variables.\n",
        "\n",
        "As shown below, we first merge all the yearly NetCDF files, and display the structure of the format. xarray library is used to read the NetCDF files. It allows the users to manipulate data based on more informative labels instead of integer location.\n",
        "\n"
      ],
      "metadata": {
        "id": "O8OF_Oj60a2g"
      }
    },
    {
      "cell_type": "code",
      "source": [
        "from climate_learn.utils.data import load_dataset, view\n",
        "\n",
        "dataset = load_dataset(\"/content/drive/MyDrive/Climate/.climate_tutorial/data/weatherbench/era5/5.625/2m_temperature\")\n",
        "view(dataset)"
      ],
      "metadata": {
        "colab": {
          "base_uri": "https://localhost:8080/",
          "height": 332
        },
        "id": "97hHL2Z7-Z86",
        "outputId": "302259e3-6ca0-4c2f-f802-a0119f46c3b2"
      },
      "execution_count": null,
      "outputs": [
        {
          "output_type": "display_data",
          "data": {
            "text/plain": [
              "<xarray.Dataset>\n",
              "Dimensions:  (lon: 64, lat: 32, time: 350640)\n",
              "Coordinates:\n",
              "  * lon      (lon) float64 0.0 5.625 11.25 16.88 ... 337.5 343.1 348.8 354.4\n",
              "  * lat      (lat) float64 -87.19 -81.56 -75.94 -70.31 ... 75.94 81.56 87.19\n",
              "  * time     (time) datetime64[ns] 1979-01-01 ... 2018-12-31T23:00:00\n",
              "Data variables:\n",
              "    t2m      (time, lat, lon) float32 dask.array<chunksize=(8760, 32, 64), meta=np.ndarray>\n",
              "Attributes:\n",
              "    Conventions:  CF-1.6\n",
              "    history:      2019-11-07 07:51:20 GMT by grib_to_netcdf-2.14.0: /opt/ecmw..."
            ],
            "text/html": [
              "<div><svg style=\"position: absolute; width: 0; height: 0; overflow: hidden\">\n",
              "<defs>\n",
              "<symbol id=\"icon-database\" viewBox=\"0 0 32 32\">\n",
              "<path d=\"M16 0c-8.837 0-16 2.239-16 5v4c0 2.761 7.163 5 16 5s16-2.239 16-5v-4c0-2.761-7.163-5-16-5z\"></path>\n",
              "<path d=\"M16 17c-8.837 0-16-2.239-16-5v6c0 2.761 7.163 5 16 5s16-2.239 16-5v-6c0 2.761-7.163 5-16 5z\"></path>\n",
              "<path d=\"M16 26c-8.837 0-16-2.239-16-5v6c0 2.761 7.163 5 16 5s16-2.239 16-5v-6c0 2.761-7.163 5-16 5z\"></path>\n",
              "</symbol>\n",
              "<symbol id=\"icon-file-text2\" viewBox=\"0 0 32 32\">\n",
              "<path d=\"M28.681 7.159c-0.694-0.947-1.662-2.053-2.724-3.116s-2.169-2.030-3.116-2.724c-1.612-1.182-2.393-1.319-2.841-1.319h-15.5c-1.378 0-2.5 1.121-2.5 2.5v27c0 1.378 1.122 2.5 2.5 2.5h23c1.378 0 2.5-1.122 2.5-2.5v-19.5c0-0.448-0.137-1.23-1.319-2.841zM24.543 5.457c0.959 0.959 1.712 1.825 2.268 2.543h-4.811v-4.811c0.718 0.556 1.584 1.309 2.543 2.268zM28 29.5c0 0.271-0.229 0.5-0.5 0.5h-23c-0.271 0-0.5-0.229-0.5-0.5v-27c0-0.271 0.229-0.5 0.5-0.5 0 0 15.499-0 15.5 0v7c0 0.552 0.448 1 1 1h7v19.5z\"></path>\n",
              "<path d=\"M23 26h-14c-0.552 0-1-0.448-1-1s0.448-1 1-1h14c0.552 0 1 0.448 1 1s-0.448 1-1 1z\"></path>\n",
              "<path d=\"M23 22h-14c-0.552 0-1-0.448-1-1s0.448-1 1-1h14c0.552 0 1 0.448 1 1s-0.448 1-1 1z\"></path>\n",
              "<path d=\"M23 18h-14c-0.552 0-1-0.448-1-1s0.448-1 1-1h14c0.552 0 1 0.448 1 1s-0.448 1-1 1z\"></path>\n",
              "</symbol>\n",
              "</defs>\n",
              "</svg>\n",
              "<style>/* CSS stylesheet for displaying xarray objects in jupyterlab.\n",
              " *\n",
              " */\n",
              "\n",
              ":root {\n",
              "  --xr-font-color0: var(--jp-content-font-color0, rgba(0, 0, 0, 1));\n",
              "  --xr-font-color2: var(--jp-content-font-color2, rgba(0, 0, 0, 0.54));\n",
              "  --xr-font-color3: var(--jp-content-font-color3, rgba(0, 0, 0, 0.38));\n",
              "  --xr-border-color: var(--jp-border-color2, #e0e0e0);\n",
              "  --xr-disabled-color: var(--jp-layout-color3, #bdbdbd);\n",
              "  --xr-background-color: var(--jp-layout-color0, white);\n",
              "  --xr-background-color-row-even: var(--jp-layout-color1, white);\n",
              "  --xr-background-color-row-odd: var(--jp-layout-color2, #eeeeee);\n",
              "}\n",
              "\n",
              "html[theme=dark],\n",
              "body.vscode-dark {\n",
              "  --xr-font-color0: rgba(255, 255, 255, 1);\n",
              "  --xr-font-color2: rgba(255, 255, 255, 0.54);\n",
              "  --xr-font-color3: rgba(255, 255, 255, 0.38);\n",
              "  --xr-border-color: #1F1F1F;\n",
              "  --xr-disabled-color: #515151;\n",
              "  --xr-background-color: #111111;\n",
              "  --xr-background-color-row-even: #111111;\n",
              "  --xr-background-color-row-odd: #313131;\n",
              "}\n",
              "\n",
              ".xr-wrap {\n",
              "  display: block !important;\n",
              "  min-width: 300px;\n",
              "  max-width: 700px;\n",
              "}\n",
              "\n",
              ".xr-text-repr-fallback {\n",
              "  /* fallback to plain text repr when CSS is not injected (untrusted notebook) */\n",
              "  display: none;\n",
              "}\n",
              "\n",
              ".xr-header {\n",
              "  padding-top: 6px;\n",
              "  padding-bottom: 6px;\n",
              "  margin-bottom: 4px;\n",
              "  border-bottom: solid 1px var(--xr-border-color);\n",
              "}\n",
              "\n",
              ".xr-header > div,\n",
              ".xr-header > ul {\n",
              "  display: inline;\n",
              "  margin-top: 0;\n",
              "  margin-bottom: 0;\n",
              "}\n",
              "\n",
              ".xr-obj-type,\n",
              ".xr-array-name {\n",
              "  margin-left: 2px;\n",
              "  margin-right: 10px;\n",
              "}\n",
              "\n",
              ".xr-obj-type {\n",
              "  color: var(--xr-font-color2);\n",
              "}\n",
              "\n",
              ".xr-sections {\n",
              "  padding-left: 0 !important;\n",
              "  display: grid;\n",
              "  grid-template-columns: 150px auto auto 1fr 20px 20px;\n",
              "}\n",
              "\n",
              ".xr-section-item {\n",
              "  display: contents;\n",
              "}\n",
              "\n",
              ".xr-section-item input {\n",
              "  display: none;\n",
              "}\n",
              "\n",
              ".xr-section-item input + label {\n",
              "  color: var(--xr-disabled-color);\n",
              "}\n",
              "\n",
              ".xr-section-item input:enabled + label {\n",
              "  cursor: pointer;\n",
              "  color: var(--xr-font-color2);\n",
              "}\n",
              "\n",
              ".xr-section-item input:enabled + label:hover {\n",
              "  color: var(--xr-font-color0);\n",
              "}\n",
              "\n",
              ".xr-section-summary {\n",
              "  grid-column: 1;\n",
              "  color: var(--xr-font-color2);\n",
              "  font-weight: 500;\n",
              "}\n",
              "\n",
              ".xr-section-summary > span {\n",
              "  display: inline-block;\n",
              "  padding-left: 0.5em;\n",
              "}\n",
              "\n",
              ".xr-section-summary-in:disabled + label {\n",
              "  color: var(--xr-font-color2);\n",
              "}\n",
              "\n",
              ".xr-section-summary-in + label:before {\n",
              "  display: inline-block;\n",
              "  content: '►';\n",
              "  font-size: 11px;\n",
              "  width: 15px;\n",
              "  text-align: center;\n",
              "}\n",
              "\n",
              ".xr-section-summary-in:disabled + label:before {\n",
              "  color: var(--xr-disabled-color);\n",
              "}\n",
              "\n",
              ".xr-section-summary-in:checked + label:before {\n",
              "  content: '▼';\n",
              "}\n",
              "\n",
              ".xr-section-summary-in:checked + label > span {\n",
              "  display: none;\n",
              "}\n",
              "\n",
              ".xr-section-summary,\n",
              ".xr-section-inline-details {\n",
              "  padding-top: 4px;\n",
              "  padding-bottom: 4px;\n",
              "}\n",
              "\n",
              ".xr-section-inline-details {\n",
              "  grid-column: 2 / -1;\n",
              "}\n",
              "\n",
              ".xr-section-details {\n",
              "  display: none;\n",
              "  grid-column: 1 / -1;\n",
              "  margin-bottom: 5px;\n",
              "}\n",
              "\n",
              ".xr-section-summary-in:checked ~ .xr-section-details {\n",
              "  display: contents;\n",
              "}\n",
              "\n",
              ".xr-array-wrap {\n",
              "  grid-column: 1 / -1;\n",
              "  display: grid;\n",
              "  grid-template-columns: 20px auto;\n",
              "}\n",
              "\n",
              ".xr-array-wrap > label {\n",
              "  grid-column: 1;\n",
              "  vertical-align: top;\n",
              "}\n",
              "\n",
              ".xr-preview {\n",
              "  color: var(--xr-font-color3);\n",
              "}\n",
              "\n",
              ".xr-array-preview,\n",
              ".xr-array-data {\n",
              "  padding: 0 5px !important;\n",
              "  grid-column: 2;\n",
              "}\n",
              "\n",
              ".xr-array-data,\n",
              ".xr-array-in:checked ~ .xr-array-preview {\n",
              "  display: none;\n",
              "}\n",
              "\n",
              ".xr-array-in:checked ~ .xr-array-data,\n",
              ".xr-array-preview {\n",
              "  display: inline-block;\n",
              "}\n",
              "\n",
              ".xr-dim-list {\n",
              "  display: inline-block !important;\n",
              "  list-style: none;\n",
              "  padding: 0 !important;\n",
              "  margin: 0;\n",
              "}\n",
              "\n",
              ".xr-dim-list li {\n",
              "  display: inline-block;\n",
              "  padding: 0;\n",
              "  margin: 0;\n",
              "}\n",
              "\n",
              ".xr-dim-list:before {\n",
              "  content: '(';\n",
              "}\n",
              "\n",
              ".xr-dim-list:after {\n",
              "  content: ')';\n",
              "}\n",
              "\n",
              ".xr-dim-list li:not(:last-child):after {\n",
              "  content: ',';\n",
              "  padding-right: 5px;\n",
              "}\n",
              "\n",
              ".xr-has-index {\n",
              "  font-weight: bold;\n",
              "}\n",
              "\n",
              ".xr-var-list,\n",
              ".xr-var-item {\n",
              "  display: contents;\n",
              "}\n",
              "\n",
              ".xr-var-item > div,\n",
              ".xr-var-item label,\n",
              ".xr-var-item > .xr-var-name span {\n",
              "  background-color: var(--xr-background-color-row-even);\n",
              "  margin-bottom: 0;\n",
              "}\n",
              "\n",
              ".xr-var-item > .xr-var-name:hover span {\n",
              "  padding-right: 5px;\n",
              "}\n",
              "\n",
              ".xr-var-list > li:nth-child(odd) > div,\n",
              ".xr-var-list > li:nth-child(odd) > label,\n",
              ".xr-var-list > li:nth-child(odd) > .xr-var-name span {\n",
              "  background-color: var(--xr-background-color-row-odd);\n",
              "}\n",
              "\n",
              ".xr-var-name {\n",
              "  grid-column: 1;\n",
              "}\n",
              "\n",
              ".xr-var-dims {\n",
              "  grid-column: 2;\n",
              "}\n",
              "\n",
              ".xr-var-dtype {\n",
              "  grid-column: 3;\n",
              "  text-align: right;\n",
              "  color: var(--xr-font-color2);\n",
              "}\n",
              "\n",
              ".xr-var-preview {\n",
              "  grid-column: 4;\n",
              "}\n",
              "\n",
              ".xr-var-name,\n",
              ".xr-var-dims,\n",
              ".xr-var-dtype,\n",
              ".xr-preview,\n",
              ".xr-attrs dt {\n",
              "  white-space: nowrap;\n",
              "  overflow: hidden;\n",
              "  text-overflow: ellipsis;\n",
              "  padding-right: 10px;\n",
              "}\n",
              "\n",
              ".xr-var-name:hover,\n",
              ".xr-var-dims:hover,\n",
              ".xr-var-dtype:hover,\n",
              ".xr-attrs dt:hover {\n",
              "  overflow: visible;\n",
              "  width: auto;\n",
              "  z-index: 1;\n",
              "}\n",
              "\n",
              ".xr-var-attrs,\n",
              ".xr-var-data {\n",
              "  display: none;\n",
              "  background-color: var(--xr-background-color) !important;\n",
              "  padding-bottom: 5px !important;\n",
              "}\n",
              "\n",
              ".xr-var-attrs-in:checked ~ .xr-var-attrs,\n",
              ".xr-var-data-in:checked ~ .xr-var-data {\n",
              "  display: block;\n",
              "}\n",
              "\n",
              ".xr-var-data > table {\n",
              "  float: right;\n",
              "}\n",
              "\n",
              ".xr-var-name span,\n",
              ".xr-var-data,\n",
              ".xr-attrs {\n",
              "  padding-left: 25px !important;\n",
              "}\n",
              "\n",
              ".xr-attrs,\n",
              ".xr-var-attrs,\n",
              ".xr-var-data {\n",
              "  grid-column: 1 / -1;\n",
              "}\n",
              "\n",
              "dl.xr-attrs {\n",
              "  padding: 0;\n",
              "  margin: 0;\n",
              "  display: grid;\n",
              "  grid-template-columns: 125px auto;\n",
              "}\n",
              "\n",
              ".xr-attrs dt,\n",
              ".xr-attrs dd {\n",
              "  padding: 0;\n",
              "  margin: 0;\n",
              "  float: left;\n",
              "  padding-right: 10px;\n",
              "  width: auto;\n",
              "}\n",
              "\n",
              ".xr-attrs dt {\n",
              "  font-weight: normal;\n",
              "  grid-column: 1;\n",
              "}\n",
              "\n",
              ".xr-attrs dt:hover span {\n",
              "  display: inline-block;\n",
              "  background: var(--xr-background-color);\n",
              "  padding-right: 10px;\n",
              "}\n",
              "\n",
              ".xr-attrs dd {\n",
              "  grid-column: 2;\n",
              "  white-space: pre-wrap;\n",
              "  word-break: break-all;\n",
              "}\n",
              "\n",
              ".xr-icon-database,\n",
              ".xr-icon-file-text2 {\n",
              "  display: inline-block;\n",
              "  vertical-align: middle;\n",
              "  width: 1em;\n",
              "  height: 1.5em !important;\n",
              "  stroke-width: 0;\n",
              "  stroke: currentColor;\n",
              "  fill: currentColor;\n",
              "}\n",
              "</style><pre class='xr-text-repr-fallback'>&lt;xarray.Dataset&gt;\n",
              "Dimensions:  (lon: 64, lat: 32, time: 350640)\n",
              "Coordinates:\n",
              "  * lon      (lon) float64 0.0 5.625 11.25 16.88 ... 337.5 343.1 348.8 354.4\n",
              "  * lat      (lat) float64 -87.19 -81.56 -75.94 -70.31 ... 75.94 81.56 87.19\n",
              "  * time     (time) datetime64[ns] 1979-01-01 ... 2018-12-31T23:00:00\n",
              "Data variables:\n",
              "    t2m      (time, lat, lon) float32 dask.array&lt;chunksize=(8760, 32, 64), meta=np.ndarray&gt;\n",
              "Attributes:\n",
              "    Conventions:  CF-1.6\n",
              "    history:      2019-11-07 07:51:20 GMT by grib_to_netcdf-2.14.0: /opt/ecmw...</pre><div class='xr-wrap' style='display:none'><div class='xr-header'><div class='xr-obj-type'>xarray.Dataset</div></div><ul class='xr-sections'><li class='xr-section-item'><input id='section-84091e65-4113-48c2-85f9-3e7117f52a26' class='xr-section-summary-in' type='checkbox' disabled ><label for='section-84091e65-4113-48c2-85f9-3e7117f52a26' class='xr-section-summary'  title='Expand/collapse section'>Dimensions:</label><div class='xr-section-inline-details'><ul class='xr-dim-list'><li><span class='xr-has-index'>lon</span>: 64</li><li><span class='xr-has-index'>lat</span>: 32</li><li><span class='xr-has-index'>time</span>: 350640</li></ul></div><div class='xr-section-details'></div></li><li class='xr-section-item'><input id='section-d42fd80f-481d-4c1f-8813-578b5adf2bc8' class='xr-section-summary-in' type='checkbox'  checked><label for='section-d42fd80f-481d-4c1f-8813-578b5adf2bc8' class='xr-section-summary' >Coordinates: <span>(3)</span></label><div class='xr-section-inline-details'></div><div class='xr-section-details'><ul class='xr-var-list'><li class='xr-var-item'><div class='xr-var-name'><span class='xr-has-index'>lon</span></div><div class='xr-var-dims'>(lon)</div><div class='xr-var-dtype'>float64</div><div class='xr-var-preview xr-preview'>0.0 5.625 11.25 ... 348.8 354.4</div><input id='attrs-68bc323e-880f-44b0-83f7-399fc58f3893' class='xr-var-attrs-in' type='checkbox' disabled><label for='attrs-68bc323e-880f-44b0-83f7-399fc58f3893' title='Show/Hide attributes'><svg class='icon xr-icon-file-text2'><use xlink:href='#icon-file-text2'></use></svg></label><input id='data-ef1a8853-2b10-4637-85bd-3c4791ae061b' class='xr-var-data-in' type='checkbox'><label for='data-ef1a8853-2b10-4637-85bd-3c4791ae061b' title='Show/Hide data repr'><svg class='icon xr-icon-database'><use xlink:href='#icon-database'></use></svg></label><div class='xr-var-attrs'><dl class='xr-attrs'></dl></div><div class='xr-var-data'><pre>array([  0.   ,   5.625,  11.25 ,  16.875,  22.5  ,  28.125,  33.75 ,  39.375,\n",
              "        45.   ,  50.625,  56.25 ,  61.875,  67.5  ,  73.125,  78.75 ,  84.375,\n",
              "        90.   ,  95.625, 101.25 , 106.875, 112.5  , 118.125, 123.75 , 129.375,\n",
              "       135.   , 140.625, 146.25 , 151.875, 157.5  , 163.125, 168.75 , 174.375,\n",
              "       180.   , 185.625, 191.25 , 196.875, 202.5  , 208.125, 213.75 , 219.375,\n",
              "       225.   , 230.625, 236.25 , 241.875, 247.5  , 253.125, 258.75 , 264.375,\n",
              "       270.   , 275.625, 281.25 , 286.875, 292.5  , 298.125, 303.75 , 309.375,\n",
              "       315.   , 320.625, 326.25 , 331.875, 337.5  , 343.125, 348.75 , 354.375])</pre></div></li><li class='xr-var-item'><div class='xr-var-name'><span class='xr-has-index'>lat</span></div><div class='xr-var-dims'>(lat)</div><div class='xr-var-dtype'>float64</div><div class='xr-var-preview xr-preview'>-87.19 -81.56 ... 81.56 87.19</div><input id='attrs-c1d5c5cf-54f9-46b9-a84a-cf8db2842498' class='xr-var-attrs-in' type='checkbox' disabled><label for='attrs-c1d5c5cf-54f9-46b9-a84a-cf8db2842498' title='Show/Hide attributes'><svg class='icon xr-icon-file-text2'><use xlink:href='#icon-file-text2'></use></svg></label><input id='data-473f881a-aa2e-437c-8f5f-1f5033ad57e2' class='xr-var-data-in' type='checkbox'><label for='data-473f881a-aa2e-437c-8f5f-1f5033ad57e2' title='Show/Hide data repr'><svg class='icon xr-icon-database'><use xlink:href='#icon-database'></use></svg></label><div class='xr-var-attrs'><dl class='xr-attrs'></dl></div><div class='xr-var-data'><pre>array([-87.1875, -81.5625, -75.9375, -70.3125, -64.6875, -59.0625, -53.4375,\n",
              "       -47.8125, -42.1875, -36.5625, -30.9375, -25.3125, -19.6875, -14.0625,\n",
              "        -8.4375,  -2.8125,   2.8125,   8.4375,  14.0625,  19.6875,  25.3125,\n",
              "        30.9375,  36.5625,  42.1875,  47.8125,  53.4375,  59.0625,  64.6875,\n",
              "        70.3125,  75.9375,  81.5625,  87.1875])</pre></div></li><li class='xr-var-item'><div class='xr-var-name'><span class='xr-has-index'>time</span></div><div class='xr-var-dims'>(time)</div><div class='xr-var-dtype'>datetime64[ns]</div><div class='xr-var-preview xr-preview'>1979-01-01 ... 2018-12-31T23:00:00</div><input id='attrs-1eecf253-f88e-44bd-9805-8efaf602ede0' class='xr-var-attrs-in' type='checkbox' ><label for='attrs-1eecf253-f88e-44bd-9805-8efaf602ede0' title='Show/Hide attributes'><svg class='icon xr-icon-file-text2'><use xlink:href='#icon-file-text2'></use></svg></label><input id='data-07fb072b-2212-44ab-8468-ea22b341c82e' class='xr-var-data-in' type='checkbox'><label for='data-07fb072b-2212-44ab-8468-ea22b341c82e' title='Show/Hide data repr'><svg class='icon xr-icon-database'><use xlink:href='#icon-database'></use></svg></label><div class='xr-var-attrs'><dl class='xr-attrs'><dt><span>long_name :</span></dt><dd>time</dd></dl></div><div class='xr-var-data'><pre>array([&#x27;1979-01-01T00:00:00.000000000&#x27;, &#x27;1979-01-01T01:00:00.000000000&#x27;,\n",
              "       &#x27;1979-01-01T02:00:00.000000000&#x27;, ..., &#x27;2018-12-31T21:00:00.000000000&#x27;,\n",
              "       &#x27;2018-12-31T22:00:00.000000000&#x27;, &#x27;2018-12-31T23:00:00.000000000&#x27;],\n",
              "      dtype=&#x27;datetime64[ns]&#x27;)</pre></div></li></ul></div></li><li class='xr-section-item'><input id='section-883719ba-4aaa-4b68-9ea5-94526237c476' class='xr-section-summary-in' type='checkbox'  checked><label for='section-883719ba-4aaa-4b68-9ea5-94526237c476' class='xr-section-summary' >Data variables: <span>(1)</span></label><div class='xr-section-inline-details'></div><div class='xr-section-details'><ul class='xr-var-list'><li class='xr-var-item'><div class='xr-var-name'><span>t2m</span></div><div class='xr-var-dims'>(time, lat, lon)</div><div class='xr-var-dtype'>float32</div><div class='xr-var-preview xr-preview'>dask.array&lt;chunksize=(8760, 32, 64), meta=np.ndarray&gt;</div><input id='attrs-cef34544-e223-460d-8068-9b2401f553e6' class='xr-var-attrs-in' type='checkbox' ><label for='attrs-cef34544-e223-460d-8068-9b2401f553e6' title='Show/Hide attributes'><svg class='icon xr-icon-file-text2'><use xlink:href='#icon-file-text2'></use></svg></label><input id='data-571aa6bc-4209-476c-b107-c980445b4182' class='xr-var-data-in' type='checkbox'><label for='data-571aa6bc-4209-476c-b107-c980445b4182' title='Show/Hide data repr'><svg class='icon xr-icon-database'><use xlink:href='#icon-database'></use></svg></label><div class='xr-var-attrs'><dl class='xr-attrs'><dt><span>units :</span></dt><dd>K</dd><dt><span>long_name :</span></dt><dd>2 metre temperature</dd></dl></div><div class='xr-var-data'><table>\n",
              "    <tr>\n",
              "        <td>\n",
              "            <table>\n",
              "                <thead>\n",
              "                    <tr>\n",
              "                        <td> </td>\n",
              "                        <th> Array </th>\n",
              "                        <th> Chunk </th>\n",
              "                    </tr>\n",
              "                </thead>\n",
              "                <tbody>\n",
              "                    \n",
              "                    <tr>\n",
              "                        <th> Bytes </th>\n",
              "                        <td> 2.68 GiB </td>\n",
              "                        <td> 68.62 MiB </td>\n",
              "                    </tr>\n",
              "                    \n",
              "                    <tr>\n",
              "                        <th> Shape </th>\n",
              "                        <td> (350640, 32, 64) </td>\n",
              "                        <td> (8784, 32, 64) </td>\n",
              "                    </tr>\n",
              "                    <tr>\n",
              "                        <th> Count </th>\n",
              "                        <td> 120 Tasks </td>\n",
              "                        <td> 40 Chunks </td>\n",
              "                    </tr>\n",
              "                    <tr>\n",
              "                    <th> Type </th>\n",
              "                    <td> float32 </td>\n",
              "                    <td> numpy.ndarray </td>\n",
              "                    </tr>\n",
              "                </tbody>\n",
              "            </table>\n",
              "        </td>\n",
              "        <td>\n",
              "        <svg width=\"156\" height=\"146\" style=\"stroke:rgb(0,0,0);stroke-width:1\" >\n",
              "\n",
              "  <!-- Horizontal lines -->\n",
              "  <line x1=\"10\" y1=\"0\" x2=\"80\" y2=\"70\" style=\"stroke-width:2\" />\n",
              "  <line x1=\"10\" y1=\"25\" x2=\"80\" y2=\"96\" style=\"stroke-width:2\" />\n",
              "\n",
              "  <!-- Vertical lines -->\n",
              "  <line x1=\"10\" y1=\"0\" x2=\"10\" y2=\"25\" style=\"stroke-width:2\" />\n",
              "  <line x1=\"13\" y1=\"3\" x2=\"13\" y2=\"28\" />\n",
              "  <line x1=\"17\" y1=\"7\" x2=\"17\" y2=\"32\" />\n",
              "  <line x1=\"20\" y1=\"10\" x2=\"20\" y2=\"36\" />\n",
              "  <line x1=\"24\" y1=\"14\" x2=\"24\" y2=\"39\" />\n",
              "  <line x1=\"27\" y1=\"17\" x2=\"27\" y2=\"43\" />\n",
              "  <line x1=\"31\" y1=\"21\" x2=\"31\" y2=\"46\" />\n",
              "  <line x1=\"34\" y1=\"24\" x2=\"34\" y2=\"50\" />\n",
              "  <line x1=\"38\" y1=\"28\" x2=\"38\" y2=\"53\" />\n",
              "  <line x1=\"41\" y1=\"31\" x2=\"41\" y2=\"57\" />\n",
              "  <line x1=\"47\" y1=\"37\" x2=\"47\" y2=\"62\" />\n",
              "  <line x1=\"50\" y1=\"40\" x2=\"50\" y2=\"66\" />\n",
              "  <line x1=\"54\" y1=\"44\" x2=\"54\" y2=\"69\" />\n",
              "  <line x1=\"57\" y1=\"47\" x2=\"57\" y2=\"73\" />\n",
              "  <line x1=\"61\" y1=\"51\" x2=\"61\" y2=\"76\" />\n",
              "  <line x1=\"64\" y1=\"54\" x2=\"64\" y2=\"80\" />\n",
              "  <line x1=\"68\" y1=\"58\" x2=\"68\" y2=\"83\" />\n",
              "  <line x1=\"71\" y1=\"61\" x2=\"71\" y2=\"87\" />\n",
              "  <line x1=\"75\" y1=\"65\" x2=\"75\" y2=\"90\" />\n",
              "  <line x1=\"80\" y1=\"70\" x2=\"80\" y2=\"96\" style=\"stroke-width:2\" />\n",
              "\n",
              "  <!-- Colored Rectangle -->\n",
              "  <polygon points=\"10.0,0.0 80.58823529411765,70.58823529411765 80.58823529411765,96.00085180870013 10.0,25.412616514582485\" style=\"fill:#8B4903A0;stroke-width:0\"/>\n",
              "\n",
              "  <!-- Horizontal lines -->\n",
              "  <line x1=\"10\" y1=\"0\" x2=\"35\" y2=\"0\" style=\"stroke-width:2\" />\n",
              "  <line x1=\"13\" y1=\"3\" x2=\"38\" y2=\"3\" />\n",
              "  <line x1=\"17\" y1=\"7\" x2=\"42\" y2=\"7\" />\n",
              "  <line x1=\"20\" y1=\"10\" x2=\"46\" y2=\"10\" />\n",
              "  <line x1=\"24\" y1=\"14\" x2=\"49\" y2=\"14\" />\n",
              "  <line x1=\"27\" y1=\"17\" x2=\"53\" y2=\"17\" />\n",
              "  <line x1=\"31\" y1=\"21\" x2=\"56\" y2=\"21\" />\n",
              "  <line x1=\"34\" y1=\"24\" x2=\"60\" y2=\"24\" />\n",
              "  <line x1=\"38\" y1=\"28\" x2=\"63\" y2=\"28\" />\n",
              "  <line x1=\"41\" y1=\"31\" x2=\"67\" y2=\"31\" />\n",
              "  <line x1=\"47\" y1=\"37\" x2=\"72\" y2=\"37\" />\n",
              "  <line x1=\"50\" y1=\"40\" x2=\"76\" y2=\"40\" />\n",
              "  <line x1=\"54\" y1=\"44\" x2=\"79\" y2=\"44\" />\n",
              "  <line x1=\"57\" y1=\"47\" x2=\"83\" y2=\"47\" />\n",
              "  <line x1=\"61\" y1=\"51\" x2=\"86\" y2=\"51\" />\n",
              "  <line x1=\"64\" y1=\"54\" x2=\"90\" y2=\"54\" />\n",
              "  <line x1=\"68\" y1=\"58\" x2=\"93\" y2=\"58\" />\n",
              "  <line x1=\"71\" y1=\"61\" x2=\"97\" y2=\"61\" />\n",
              "  <line x1=\"75\" y1=\"65\" x2=\"100\" y2=\"65\" />\n",
              "  <line x1=\"80\" y1=\"70\" x2=\"106\" y2=\"70\" style=\"stroke-width:2\" />\n",
              "\n",
              "  <!-- Vertical lines -->\n",
              "  <line x1=\"10\" y1=\"0\" x2=\"80\" y2=\"70\" style=\"stroke-width:2\" />\n",
              "  <line x1=\"35\" y1=\"0\" x2=\"106\" y2=\"70\" style=\"stroke-width:2\" />\n",
              "\n",
              "  <!-- Colored Rectangle -->\n",
              "  <polygon points=\"10.0,0.0 35.41261651458248,0.0 106.00085180870013,70.58823529411765 80.58823529411765,70.58823529411765\" style=\"fill:#8B4903A0;stroke-width:0\"/>\n",
              "\n",
              "  <!-- Horizontal lines -->\n",
              "  <line x1=\"80\" y1=\"70\" x2=\"106\" y2=\"70\" style=\"stroke-width:2\" />\n",
              "  <line x1=\"80\" y1=\"96\" x2=\"106\" y2=\"96\" style=\"stroke-width:2\" />\n",
              "\n",
              "  <!-- Vertical lines -->\n",
              "  <line x1=\"80\" y1=\"70\" x2=\"80\" y2=\"96\" style=\"stroke-width:2\" />\n",
              "  <line x1=\"106\" y1=\"70\" x2=\"106\" y2=\"96\" style=\"stroke-width:2\" />\n",
              "\n",
              "  <!-- Colored Rectangle -->\n",
              "  <polygon points=\"80.58823529411765,70.58823529411765 106.00085180870013,70.58823529411765 106.00085180870013,96.00085180870013 80.58823529411765,96.00085180870013\" style=\"fill:#ECB172A0;stroke-width:0\"/>\n",
              "\n",
              "  <!-- Text -->\n",
              "  <text x=\"93.294544\" y=\"116.000852\" font-size=\"1.0rem\" font-weight=\"100\" text-anchor=\"middle\" >64</text>\n",
              "  <text x=\"126.000852\" y=\"83.294544\" font-size=\"1.0rem\" font-weight=\"100\" text-anchor=\"middle\" transform=\"rotate(0,126.000852,83.294544)\">32</text>\n",
              "  <text x=\"35.294118\" y=\"80.706734\" font-size=\"1.0rem\" font-weight=\"100\" text-anchor=\"middle\" transform=\"rotate(45,35.294118,80.706734)\">350640</text>\n",
              "</svg>\n",
              "        </td>\n",
              "    </tr>\n",
              "</table></div></li></ul></div></li><li class='xr-section-item'><input id='section-209c23dc-f972-46bb-a96f-fbdf061eab37' class='xr-section-summary-in' type='checkbox'  checked><label for='section-209c23dc-f972-46bb-a96f-fbdf061eab37' class='xr-section-summary' >Attributes: <span>(2)</span></label><div class='xr-section-inline-details'></div><div class='xr-section-details'><dl class='xr-attrs'><dt><span>Conventions :</span></dt><dd>CF-1.6</dd><dt><span>history :</span></dt><dd>2019-11-07 07:51:20 GMT by grib_to_netcdf-2.14.0: /opt/ecmwf/eccodes/bin/grib_to_netcdf -o /cache/data6/adaptor.mars.internal-1573111969.63867-16399-5-91391c60-4927-4da2-b19c-5c8067041f7e.nc /cache/tmp/91391c60-4927-4da2-b19c-5c8067041f7e-adaptor.mars.internal-1573111969.639535-16399-3-tmp.grib</dd></dl></div></li></ul></div></div>"
            ]
          },
          "metadata": {}
        }
      ]
    },
    {
      "cell_type": "markdown",
      "source": [
        "## Data Conversion\n",
        "We further convert the *NetCDF* files to *PyTorch* Dataloaders.\n",
        "\n",
        "**Pros**: We can use the dataloaders for training and evaluating neural networks.\\\n",
        "**Cons**: We loose useful meta information (such as 'time', 'location') during conversion as dataloaders only allow for integer location based treatment.\n",
        "\n",
        "We store the useful information about\n",
        " the data ('lat', 'long') of the regions as _data members_ of our dataloaders.\n",
        "\n",
        "\n",
        "\n"
      ],
      "metadata": {
        "id": "3XM3rITW9Y3-"
      }
    },
    {
      "cell_type": "markdown",
      "source": [
        "### Example\n",
        "\n",
        "- In the given example, we train our model from the data from 1979 (start train year) -2015, validate it from the data from 2015 (start validation year) - 2016, and test it on data from 2017 (start test year) - 2018 (end test year).\n",
        "- We split the data this way as it allows us to test the temporal generalization of our models. Additionally, it replicates more practical setting where the model that is trained on the historical data is used for forecasting in the future.\n",
        "- pred_range = Days(3) indicates that we are going to predict 3 days in the future.\n",
        "- subsample = Hours(6) indicates that we shall use the data at every 6 hours from 24 hours of the data from a single day i.e., rather than using data at 12am, 1am, 2am...11pm from a single day, we shall use the data at 12am, 6am, 12pm, 6pm. As climate variables are highly correlated within a window of a few hours, subsampling helps in removing those redundancies during training.\n"
      ],
      "metadata": {
        "id": "PIymAwxkd9O-"
      }
    },
    {
      "cell_type": "code",
      "source": [
        "from climate_learn.utils.datetime import Year, Days, Hours\n",
        "from climate_learn.data import DataModule\n",
        "\n",
        "data_module = DataModule(\n",
        "    dataset = \"ERA5\",\n",
        "    task = \"forecasting\",\n",
        "    root_dir = \"/content/drive/MyDrive/Climate/.climate_tutorial/data/weatherbench/era5/5.625/\",\n",
        "    in_vars = [\"2m_temperature\"],\n",
        "    out_vars = [\"2m_temperature\"],\n",
        "    train_start_year = Year(1979),\n",
        "    val_start_year = Year(2015),\n",
        "    test_start_year = Year(2017),\n",
        "    end_year = Year(2018),\n",
        "    pred_range = Days(3),\n",
        "    subsample = Hours(6),\n",
        "    batch_size = 128,\n",
        "    num_workers = 1\n",
        ")"
      ],
      "metadata": {
        "id": "EK2UD49hQ3om",
        "colab": {
          "base_uri": "https://localhost:8080/",
          "height": 167,
          "referenced_widgets": [
            "50a5a7cfd06c4028b10cff7e1ef1c931",
            "f052d66a04f6409cb466b5d48a2b2b26",
            "7fa33ddae6894cd3be1bad4b1739e5c7",
            "92a625d6928147bcb1cfdaf52fe2363d",
            "e30aa056ea1049debe4742db2b2df222",
            "9e8a9cb9f31a42beaf02c7ba5b4f34ed",
            "0fdc7a7efe234a8286b899308943de64",
            "611e8d47189847318e7e1d7796f48db3",
            "c8914ce3a0004f63a888ba444f8af318",
            "abf99e8a44494cd187391ca4a07a026e",
            "c20eaa791e264024aff4feb2f42d0d07",
            "dba0b41334454f3f870e87699bd154e0",
            "8438fdefe7bf490e862723975371d61c",
            "03303b9c1b8548b3a04909a826f80002",
            "6b556a795d984987aea598764f2d2797",
            "aeaaa5b9f5284554aa8448948ff9c7c1",
            "a08703cd7dfa45ad94314f548c70ae64",
            "1b2dc1db6dc94fb0b056191767046db2",
            "1fc4c15488ef4c0e8570aad266cc3c21",
            "6b0f9dd6014d4a63adb5d85d93c6b2af",
            "5820a025a44f417a8cab72ba243a55d2",
            "6e6e668844014da4be5713c15f0a6869",
            "8c8cae84332b4fa1bbd622034000f3a0",
            "c221fefd297343abb74b0a08c6438df4",
            "da3a8137278d499d95472cad77a09dcf",
            "88a76bb1d2bb42b1b288567de3f58c0f",
            "64b28cb4b7a64e9fa7b3b8f10aa34f99",
            "f850a272fd554fe68c72f98b131dcb14",
            "86e82a8918554b81bfe9e1bdd7c6a6bf",
            "73598cd518384df096e46704d3369362",
            "d34bc900130149898b7915806fd3a3b3",
            "59c178782d894a5aaa8d089069ef655d",
            "c57a757b5f5844918085abe4cbae30f2"
          ]
        },
        "outputId": "6a678f27-9fdd-4cb9-e596-a38066fa8c52"
      },
      "execution_count": null,
      "outputs": [
        {
          "output_type": "stream",
          "name": "stdout",
          "text": [
            "Creating train dataset\n"
          ]
        },
        {
          "output_type": "display_data",
          "data": {
            "text/plain": [
              "  0%|          | 0/36 [00:00<?, ?it/s]"
            ],
            "application/vnd.jupyter.widget-view+json": {
              "version_major": 2,
              "version_minor": 0,
              "model_id": "50a5a7cfd06c4028b10cff7e1ef1c931"
            }
          },
          "metadata": {}
        },
        {
          "output_type": "stream",
          "name": "stdout",
          "text": [
            "Creating val dataset\n"
          ]
        },
        {
          "output_type": "display_data",
          "data": {
            "text/plain": [
              "  0%|          | 0/2 [00:00<?, ?it/s]"
            ],
            "application/vnd.jupyter.widget-view+json": {
              "version_major": 2,
              "version_minor": 0,
              "model_id": "dba0b41334454f3f870e87699bd154e0"
            }
          },
          "metadata": {}
        },
        {
          "output_type": "stream",
          "name": "stdout",
          "text": [
            "Creating test dataset\n"
          ]
        },
        {
          "output_type": "display_data",
          "data": {
            "text/plain": [
              "  0%|          | 0/2 [00:00<?, ?it/s]"
            ],
            "application/vnd.jupyter.widget-view+json": {
              "version_major": 2,
              "version_minor": 0,
              "model_id": "8c8cae84332b4fa1bbd622034000f3a0"
            }
          },
          "metadata": {}
        }
      ]
    },
    {
      "cell_type": "markdown",
      "source": [
        "## Neural Networks Architectures\n",
        "\n",
        "We consider three deep neural network architectures for in this tutorial.\n",
        "\n",
        "1. Convolutional Neural Networks (CNN)\n",
        "<center><img src=\"https://viso.ai/wp-content/uploads/2021/03/cnn-convolutional-neural-networks-1060x362.jpg\" width=400></center>\n",
        "\n",
        "CNN is a widely used neural network architecture for visual recognition. A CNN is a constrainted version of a regular neural network that takes advantage of the prior knowledge that the input is an image. The architecture can be flexibly adapted to various image resolutions.\n",
        "\n",
        "For our use case, the latitude-longitude gridded data is treated as an image composed of climate variables in its channel instead of the Red-Green-Blue (RGB) information.\n",
        "\n",
        "Resource(s): https://cs231n.github.io/convolutional-networks/\n",
        "\n",
        "Among the long list of CNN variants availablely, we provide support for its popular variants.\n",
        "\n",
        "\n",
        "Variants of CNN architecture: \\\n",
        "\n",
        "a. **ResNet**\n",
        "\n",
        "<center><img src=\"https://miro.medium.com/max/875/1*WpX_8eCeTsEcCs8vdXtUCw.png\" width=400></center>\n",
        "\n",
        "ResNets have been used to achieve SOTA weather forecasting using neural networks for temperature and geopotential in [1].\n",
        "\n",
        "Paper: [Deep Residual Learning for Image Recognition](https://arxiv.org/abs/1512.03385)\n",
        "\n",
        "b. **U-Net**\n",
        "\n",
        "<center><img src=\"https://miro.medium.com/max/875/1*f7YOaE4TWubwaFF7Z1fzNw.png\" width=400></center>\n",
        "\n",
        "The basic building blocks of the U-Net architecture involve downsampling as well as upsampling convolutions. The downsampling blocks project the input from higher dimension to a lower dimension, and upsampling blocks project the low dimension latent space to the higher dimension input space. After gaining popularity in the Biomedical domain, our package allows the users to benchmark U-Net in the Climate modeling space too.\n",
        "\n",
        "\n",
        "Paper: [U-Net: Convolutional Networks for Biomedical Image Segmentation\n",
        "](https://arxiv.org/abs/1505.04597)\n",
        "\n",
        "\n",
        "\n",
        "2. Vision Transformers\n",
        "\n",
        "Vision transformers are the latest contemporary to CNN variants for visual recognition. We relegate the audience to the related paper for its architectural details.\n",
        "\n",
        "<center><img src=\"https://viso.ai/wp-content/uploads/2021/09/vision-transformer-vit.png\" width=400></center>\n",
        "\n",
        "Vision Transformers have gained immense popularity in the Vision community, and its usefulness to learn representations of climate variables is still under-explored. [2] used Transformers for short-range temperature forecasting.\n",
        "We believe that our ViT implementation shall allow the users to benchmark ViT on climate modeling tasks.\n",
        "\n",
        "Paper: <a href=\"https://arxiv.org/abs/2010.11929\">An Image is Worth 16x16 Words: Transformers for Image Recognition at Scale</a>\n",
        "\n",
        "<br/><br/>\n",
        "\n",
        "\n",
        "**References**:\n",
        "\n",
        "[1] Rasp S, Thuerey N. Data‐driven medium‐range weather prediction with a resnet pretrained on climate simulations: A new model for weatherbench. Journal of Advances in Modeling Earth Systems. 2021 Feb;13(2):e2020MS002405.\\\n",
        "[2] Bilgin O, Mąka P, Vergutz T, Mehrkanoon S. TENT: Tensorized encoder transformer for temperature forecasting. arXiv preprint arXiv:2106.14742. 2021 Jun 28.\n",
        "\n",
        "\n",
        "\n",
        "<br/><br/>\n",
        "\n",
        "In this tutorial, we shall demonstrate the training of a resnet from scratch. It is important to note that the choice of model architecture and hyperparameters are for demonstration purposes only."
      ],
      "metadata": {
        "id": "1co6tQpiAoYO"
      }
    },
    {
      "cell_type": "markdown",
      "metadata": {
        "id": "yWXsiZ5freTG"
      },
      "source": [
        "## Model initialization\n",
        "\n",
        "The hyperparameters and ResNet architecture chosen allow for a model that forecasts with 85.7% test accuracy, while still training within a reasonable amount of time for the sake of the tutorial (by nature of being a smaller model). We leave it to the user to perform a more exhaustive search of hyperparameter values for training models that perform better."
      ]
    },
    {
      "cell_type": "code",
      "source": [
        "from climate_learn.models import load_model\n",
        "\n",
        "# model_kwargs = {\n",
        "#     \"img_size\": [32, 64],\n",
        "#     \"patch_size\": 2,\n",
        "#     \"drop_path\": 0.1,\n",
        "#     \"drop_rate\": 0.1,\n",
        "#     \"learn_pos_emb\": True,\n",
        "#     \"in_vars\": data_module.hparams.in_vars,\n",
        "#     \"out_vars\": data_module.hparams.out_vars,\n",
        "#     \"embed_dim\": 128,\n",
        "#     \"depth\": 8,\n",
        "#     \"decoder_depth\": 0,\n",
        "#     \"num_heads\": 4,\n",
        "#     \"mlp_ratio\": 4,\n",
        "# }\n",
        "\n",
        "model_kwargs = {\n",
        "    \"in_channels\": len(data_module.hparams.in_vars),\n",
        "    \"out_channels\": len(data_module.hparams.out_vars),\n",
        "    \"n_blocks\": 4\n",
        "}\n",
        "\n",
        "optim_kwargs = {\n",
        "    \"lr\": 1e-4,\n",
        "    \"weight_decay\": 1e-5,\n",
        "    \"warmup_epochs\": 1,\n",
        "    \"max_epochs\": 5,\n",
        "}\n",
        "\n",
        "# model_module = load_model(name = \"vit\", task = \"forecasting\", model_kwargs = model_kwargs, optim_kwargs = optim_kwargs)\n",
        "model_module = load_model(name = \"resnet\", task = \"forecasting\", model_kwargs = model_kwargs, optim_kwargs = optim_kwargs)\n",
        "# model_module = load_model(name = \"unet\", task = \"forecasting\", model_kwargs = model_kwargs, optim_kwargs = optim_kwargs)"
      ],
      "metadata": {
        "id": "paTI33tP5R4H"
      },
      "execution_count": null,
      "outputs": []
    },
    {
      "cell_type": "code",
      "source": [
        "from climate_learn.models import set_climatology\n",
        "set_climatology(model_module, data_module)"
      ],
      "metadata": {
        "id": "BalFce--51Rh"
      },
      "execution_count": null,
      "outputs": []
    },
    {
      "cell_type": "markdown",
      "source": [
        "## Training\n",
        "\n",
        "\n",
        "The training objective ensures that the machine learning model makes accurate forecasts over the gridded data. We employ latitude weighted RMSE given by:\n",
        "\n",
        "<br>\n",
        "$RMSE = \\frac{1}{N_{forecasts}}\\sum_{i}^{N_{forecasts}}\\sqrt{\\frac{1}{N_{lat}N_{lon}}\\sum_{j}^{N_{lat}}\\sum_{k}^{N_{lon}}L(j)(f_{i,j,k}-t_{i,j,k})^{2}} \\tag{1}$\n",
        "<br>\n",
        "\n",
        "where $f$ is the model forecast and $t$ is the ERA5 truth. $L(j)$ is the latitude weighing factor at the $j^{th}$ latitude index:\n",
        "\n",
        "<br>\n",
        "$L(j) = \\frac{cos(lat(j))}{\\frac{1}{N_{lat}}\\sum_{j}^{N_{lat}}cos(lat(j))} \\tag{2}$\n",
        "<br>\n",
        "\n",
        "(Optional) If you want to monitor training and validation curves of the model using [Weights and Biases](https://docs.wandb.ai/), uncomment the lines in the following code block and login to your Wandb account (only once)."
      ],
      "metadata": {
        "id": "MLxhgSOctxo4"
      }
    },
    {
      "cell_type": "code",
      "source": [
        "from climate_learn.training import Trainer, WandbLogger\n",
        "\n",
        "trainer = Trainer(\n",
        "    seed = 0,\n",
        "    accelerator = \"gpu\",\n",
        "    precision = 16,\n",
        "    max_epochs = 5,\n",
        "    # logger = WandbLogger(project = \"climate_tutorial\", name = \"forecast-vit\")\n",
        ")"
      ],
      "metadata": {
        "id": "oqh0TzP4TebP",
        "colab": {
          "base_uri": "https://localhost:8080/"
        },
        "outputId": "a10dede6-0a99-4621-b865-1d5ceea2a8dc"
      },
      "execution_count": null,
      "outputs": [
        {
          "output_type": "stream",
          "name": "stderr",
          "text": [
            "INFO:lightning_lite.utilities.seed:Global seed set to 0\n"
          ]
        }
      ]
    },
    {
      "cell_type": "code",
      "source": [
        "trainer.fit(model_module, data_module)"
      ],
      "metadata": {
        "id": "BwZ49aNGhhUt",
        "colab": {
          "base_uri": "https://localhost:8080/",
          "height": 1000,
          "referenced_widgets": [
            "8491c441c5a3488aa1a29a6ba638efe7",
            "b99587dd83234cedb99830e3b6e0b511"
          ]
        },
        "outputId": "68a49987-dca4-4541-ec65-ce6670cafdba"
      },
      "execution_count": null,
      "outputs": [
        {
          "output_type": "display_data",
          "data": {
            "text/plain": [
              "┏━━━━┳━━━━━━━━━━━━━━━━━━━━━━━━━━━━┳━━━━━━━━━━━━━━━━━━━┳━━━━━━━━┓\n",
              "┃\u001b[1;35m \u001b[0m\u001b[1;35m  \u001b[0m\u001b[1;35m \u001b[0m┃\u001b[1;35m \u001b[0m\u001b[1;35mName                      \u001b[0m\u001b[1;35m \u001b[0m┃\u001b[1;35m \u001b[0m\u001b[1;35mType             \u001b[0m\u001b[1;35m \u001b[0m┃\u001b[1;35m \u001b[0m\u001b[1;35mParams\u001b[0m\u001b[1;35m \u001b[0m┃\n",
              "┡━━━━╇━━━━━━━━━━━━━━━━━━━━━━━━━━━━╇━━━━━━━━━━━━━━━━━━━╇━━━━━━━━┩\n",
              "│\u001b[2m \u001b[0m\u001b[2m0 \u001b[0m\u001b[2m \u001b[0m│ net                        │ ResNet            │  1.2 M │\n",
              "│\u001b[2m \u001b[0m\u001b[2m1 \u001b[0m\u001b[2m \u001b[0m│ net.activation             │ LeakyReLU         │      0 │\n",
              "│\u001b[2m \u001b[0m\u001b[2m2 \u001b[0m\u001b[2m \u001b[0m│ net.image_proj             │ PeriodicConv2D    │  6.4 K │\n",
              "│\u001b[2m \u001b[0m\u001b[2m3 \u001b[0m\u001b[2m \u001b[0m│ net.image_proj.padding     │ PeriodicPadding2D │      0 │\n",
              "│\u001b[2m \u001b[0m\u001b[2m4 \u001b[0m\u001b[2m \u001b[0m│ net.image_proj.conv        │ Conv2d            │  6.4 K │\n",
              "│\u001b[2m \u001b[0m\u001b[2m5 \u001b[0m\u001b[2m \u001b[0m│ net.blocks                 │ ModuleList        │  1.2 M │\n",
              "│\u001b[2m \u001b[0m\u001b[2m6 \u001b[0m\u001b[2m \u001b[0m│ net.blocks.0               │ ResidualBlock     │  295 K │\n",
              "│\u001b[2m \u001b[0m\u001b[2m7 \u001b[0m\u001b[2m \u001b[0m│ net.blocks.0.activation    │ LeakyReLU         │      0 │\n",
              "│\u001b[2m \u001b[0m\u001b[2m8 \u001b[0m\u001b[2m \u001b[0m│ net.blocks.0.conv1         │ PeriodicConv2D    │  147 K │\n",
              "│\u001b[2m \u001b[0m\u001b[2m9 \u001b[0m\u001b[2m \u001b[0m│ net.blocks.0.conv1.padding │ PeriodicPadding2D │      0 │\n",
              "│\u001b[2m \u001b[0m\u001b[2m10\u001b[0m\u001b[2m \u001b[0m│ net.blocks.0.conv1.conv    │ Conv2d            │  147 K │\n",
              "│\u001b[2m \u001b[0m\u001b[2m11\u001b[0m\u001b[2m \u001b[0m│ net.blocks.0.conv2         │ PeriodicConv2D    │  147 K │\n",
              "│\u001b[2m \u001b[0m\u001b[2m12\u001b[0m\u001b[2m \u001b[0m│ net.blocks.0.conv2.padding │ PeriodicPadding2D │      0 │\n",
              "│\u001b[2m \u001b[0m\u001b[2m13\u001b[0m\u001b[2m \u001b[0m│ net.blocks.0.conv2.conv    │ Conv2d            │  147 K │\n",
              "│\u001b[2m \u001b[0m\u001b[2m14\u001b[0m\u001b[2m \u001b[0m│ net.blocks.0.shortcut      │ Identity          │      0 │\n",
              "│\u001b[2m \u001b[0m\u001b[2m15\u001b[0m\u001b[2m \u001b[0m│ net.blocks.0.norm1         │ BatchNorm2d       │    256 │\n",
              "│\u001b[2m \u001b[0m\u001b[2m16\u001b[0m\u001b[2m \u001b[0m│ net.blocks.0.norm2         │ BatchNorm2d       │    256 │\n",
              "│\u001b[2m \u001b[0m\u001b[2m17\u001b[0m\u001b[2m \u001b[0m│ net.blocks.0.drop          │ Dropout           │      0 │\n",
              "│\u001b[2m \u001b[0m\u001b[2m18\u001b[0m\u001b[2m \u001b[0m│ net.blocks.1               │ ResidualBlock     │  295 K │\n",
              "│\u001b[2m \u001b[0m\u001b[2m19\u001b[0m\u001b[2m \u001b[0m│ net.blocks.1.activation    │ LeakyReLU         │      0 │\n",
              "│\u001b[2m \u001b[0m\u001b[2m20\u001b[0m\u001b[2m \u001b[0m│ net.blocks.1.conv1         │ PeriodicConv2D    │  147 K │\n",
              "│\u001b[2m \u001b[0m\u001b[2m21\u001b[0m\u001b[2m \u001b[0m│ net.blocks.1.conv1.padding │ PeriodicPadding2D │      0 │\n",
              "│\u001b[2m \u001b[0m\u001b[2m22\u001b[0m\u001b[2m \u001b[0m│ net.blocks.1.conv1.conv    │ Conv2d            │  147 K │\n",
              "│\u001b[2m \u001b[0m\u001b[2m23\u001b[0m\u001b[2m \u001b[0m│ net.blocks.1.conv2         │ PeriodicConv2D    │  147 K │\n",
              "│\u001b[2m \u001b[0m\u001b[2m24\u001b[0m\u001b[2m \u001b[0m│ net.blocks.1.conv2.padding │ PeriodicPadding2D │      0 │\n",
              "│\u001b[2m \u001b[0m\u001b[2m25\u001b[0m\u001b[2m \u001b[0m│ net.blocks.1.conv2.conv    │ Conv2d            │  147 K │\n",
              "│\u001b[2m \u001b[0m\u001b[2m26\u001b[0m\u001b[2m \u001b[0m│ net.blocks.1.shortcut      │ Identity          │      0 │\n",
              "│\u001b[2m \u001b[0m\u001b[2m27\u001b[0m\u001b[2m \u001b[0m│ net.blocks.1.norm1         │ BatchNorm2d       │    256 │\n",
              "│\u001b[2m \u001b[0m\u001b[2m28\u001b[0m\u001b[2m \u001b[0m│ net.blocks.1.norm2         │ BatchNorm2d       │    256 │\n",
              "│\u001b[2m \u001b[0m\u001b[2m29\u001b[0m\u001b[2m \u001b[0m│ net.blocks.1.drop          │ Dropout           │      0 │\n",
              "│\u001b[2m \u001b[0m\u001b[2m30\u001b[0m\u001b[2m \u001b[0m│ net.blocks.2               │ ResidualBlock     │  295 K │\n",
              "│\u001b[2m \u001b[0m\u001b[2m31\u001b[0m\u001b[2m \u001b[0m│ net.blocks.2.activation    │ LeakyReLU         │      0 │\n",
              "│\u001b[2m \u001b[0m\u001b[2m32\u001b[0m\u001b[2m \u001b[0m│ net.blocks.2.conv1         │ PeriodicConv2D    │  147 K │\n",
              "│\u001b[2m \u001b[0m\u001b[2m33\u001b[0m\u001b[2m \u001b[0m│ net.blocks.2.conv1.padding │ PeriodicPadding2D │      0 │\n",
              "│\u001b[2m \u001b[0m\u001b[2m34\u001b[0m\u001b[2m \u001b[0m│ net.blocks.2.conv1.conv    │ Conv2d            │  147 K │\n",
              "│\u001b[2m \u001b[0m\u001b[2m35\u001b[0m\u001b[2m \u001b[0m│ net.blocks.2.conv2         │ PeriodicConv2D    │  147 K │\n",
              "│\u001b[2m \u001b[0m\u001b[2m36\u001b[0m\u001b[2m \u001b[0m│ net.blocks.2.conv2.padding │ PeriodicPadding2D │      0 │\n",
              "│\u001b[2m \u001b[0m\u001b[2m37\u001b[0m\u001b[2m \u001b[0m│ net.blocks.2.conv2.conv    │ Conv2d            │  147 K │\n",
              "│\u001b[2m \u001b[0m\u001b[2m38\u001b[0m\u001b[2m \u001b[0m│ net.blocks.2.shortcut      │ Identity          │      0 │\n",
              "│\u001b[2m \u001b[0m\u001b[2m39\u001b[0m\u001b[2m \u001b[0m│ net.blocks.2.norm1         │ BatchNorm2d       │    256 │\n",
              "│\u001b[2m \u001b[0m\u001b[2m40\u001b[0m\u001b[2m \u001b[0m│ net.blocks.2.norm2         │ BatchNorm2d       │    256 │\n",
              "│\u001b[2m \u001b[0m\u001b[2m41\u001b[0m\u001b[2m \u001b[0m│ net.blocks.2.drop          │ Dropout           │      0 │\n",
              "│\u001b[2m \u001b[0m\u001b[2m42\u001b[0m\u001b[2m \u001b[0m│ net.blocks.3               │ ResidualBlock     │  295 K │\n",
              "│\u001b[2m \u001b[0m\u001b[2m43\u001b[0m\u001b[2m \u001b[0m│ net.blocks.3.activation    │ LeakyReLU         │      0 │\n",
              "│\u001b[2m \u001b[0m\u001b[2m44\u001b[0m\u001b[2m \u001b[0m│ net.blocks.3.conv1         │ PeriodicConv2D    │  147 K │\n",
              "│\u001b[2m \u001b[0m\u001b[2m45\u001b[0m\u001b[2m \u001b[0m│ net.blocks.3.conv1.padding │ PeriodicPadding2D │      0 │\n",
              "│\u001b[2m \u001b[0m\u001b[2m46\u001b[0m\u001b[2m \u001b[0m│ net.blocks.3.conv1.conv    │ Conv2d            │  147 K │\n",
              "│\u001b[2m \u001b[0m\u001b[2m47\u001b[0m\u001b[2m \u001b[0m│ net.blocks.3.conv2         │ PeriodicConv2D    │  147 K │\n",
              "│\u001b[2m \u001b[0m\u001b[2m48\u001b[0m\u001b[2m \u001b[0m│ net.blocks.3.conv2.padding │ PeriodicPadding2D │      0 │\n",
              "│\u001b[2m \u001b[0m\u001b[2m49\u001b[0m\u001b[2m \u001b[0m│ net.blocks.3.conv2.conv    │ Conv2d            │  147 K │\n",
              "│\u001b[2m \u001b[0m\u001b[2m50\u001b[0m\u001b[2m \u001b[0m│ net.blocks.3.shortcut      │ Identity          │      0 │\n",
              "│\u001b[2m \u001b[0m\u001b[2m51\u001b[0m\u001b[2m \u001b[0m│ net.blocks.3.norm1         │ BatchNorm2d       │    256 │\n",
              "│\u001b[2m \u001b[0m\u001b[2m52\u001b[0m\u001b[2m \u001b[0m│ net.blocks.3.norm2         │ BatchNorm2d       │    256 │\n",
              "│\u001b[2m \u001b[0m\u001b[2m53\u001b[0m\u001b[2m \u001b[0m│ net.blocks.3.drop          │ Dropout           │      0 │\n",
              "│\u001b[2m \u001b[0m\u001b[2m54\u001b[0m\u001b[2m \u001b[0m│ net.norm                   │ BatchNorm2d       │    256 │\n",
              "│\u001b[2m \u001b[0m\u001b[2m55\u001b[0m\u001b[2m \u001b[0m│ net.final                  │ PeriodicConv2D    │  6.3 K │\n",
              "│\u001b[2m \u001b[0m\u001b[2m56\u001b[0m\u001b[2m \u001b[0m│ net.final.padding          │ PeriodicPadding2D │      0 │\n",
              "│\u001b[2m \u001b[0m\u001b[2m57\u001b[0m\u001b[2m \u001b[0m│ net.final.conv             │ Conv2d            │  6.3 K │\n",
              "│\u001b[2m \u001b[0m\u001b[2m58\u001b[0m\u001b[2m \u001b[0m│ denormalization            │ Normalize         │      0 │\n",
              "│\u001b[2m \u001b[0m\u001b[2m59\u001b[0m\u001b[2m \u001b[0m│ mean_denormalize           │ Normalize         │      0 │\n",
              "│\u001b[2m \u001b[0m\u001b[2m60\u001b[0m\u001b[2m \u001b[0m│ std_denormalize            │ Normalize         │      0 │\n",
              "└────┴────────────────────────────┴───────────────────┴────────┘\n"
            ],
            "text/html": [
              "<pre style=\"white-space:pre;overflow-x:auto;line-height:normal;font-family:Menlo,'DejaVu Sans Mono',consolas,'Courier New',monospace\">┏━━━━┳━━━━━━━━━━━━━━━━━━━━━━━━━━━━┳━━━━━━━━━━━━━━━━━━━┳━━━━━━━━┓\n",
              "┃<span style=\"color: #800080; text-decoration-color: #800080; font-weight: bold\">    </span>┃<span style=\"color: #800080; text-decoration-color: #800080; font-weight: bold\"> Name                       </span>┃<span style=\"color: #800080; text-decoration-color: #800080; font-weight: bold\"> Type              </span>┃<span style=\"color: #800080; text-decoration-color: #800080; font-weight: bold\"> Params </span>┃\n",
              "┡━━━━╇━━━━━━━━━━━━━━━━━━━━━━━━━━━━╇━━━━━━━━━━━━━━━━━━━╇━━━━━━━━┩\n",
              "│<span style=\"color: #7f7f7f; text-decoration-color: #7f7f7f\"> 0  </span>│ net                        │ ResNet            │  1.2 M │\n",
              "│<span style=\"color: #7f7f7f; text-decoration-color: #7f7f7f\"> 1  </span>│ net.activation             │ LeakyReLU         │      0 │\n",
              "│<span style=\"color: #7f7f7f; text-decoration-color: #7f7f7f\"> 2  </span>│ net.image_proj             │ PeriodicConv2D    │  6.4 K │\n",
              "│<span style=\"color: #7f7f7f; text-decoration-color: #7f7f7f\"> 3  </span>│ net.image_proj.padding     │ PeriodicPadding2D │      0 │\n",
              "│<span style=\"color: #7f7f7f; text-decoration-color: #7f7f7f\"> 4  </span>│ net.image_proj.conv        │ Conv2d            │  6.4 K │\n",
              "│<span style=\"color: #7f7f7f; text-decoration-color: #7f7f7f\"> 5  </span>│ net.blocks                 │ ModuleList        │  1.2 M │\n",
              "│<span style=\"color: #7f7f7f; text-decoration-color: #7f7f7f\"> 6  </span>│ net.blocks.0               │ ResidualBlock     │  295 K │\n",
              "│<span style=\"color: #7f7f7f; text-decoration-color: #7f7f7f\"> 7  </span>│ net.blocks.0.activation    │ LeakyReLU         │      0 │\n",
              "│<span style=\"color: #7f7f7f; text-decoration-color: #7f7f7f\"> 8  </span>│ net.blocks.0.conv1         │ PeriodicConv2D    │  147 K │\n",
              "│<span style=\"color: #7f7f7f; text-decoration-color: #7f7f7f\"> 9  </span>│ net.blocks.0.conv1.padding │ PeriodicPadding2D │      0 │\n",
              "│<span style=\"color: #7f7f7f; text-decoration-color: #7f7f7f\"> 10 </span>│ net.blocks.0.conv1.conv    │ Conv2d            │  147 K │\n",
              "│<span style=\"color: #7f7f7f; text-decoration-color: #7f7f7f\"> 11 </span>│ net.blocks.0.conv2         │ PeriodicConv2D    │  147 K │\n",
              "│<span style=\"color: #7f7f7f; text-decoration-color: #7f7f7f\"> 12 </span>│ net.blocks.0.conv2.padding │ PeriodicPadding2D │      0 │\n",
              "│<span style=\"color: #7f7f7f; text-decoration-color: #7f7f7f\"> 13 </span>│ net.blocks.0.conv2.conv    │ Conv2d            │  147 K │\n",
              "│<span style=\"color: #7f7f7f; text-decoration-color: #7f7f7f\"> 14 </span>│ net.blocks.0.shortcut      │ Identity          │      0 │\n",
              "│<span style=\"color: #7f7f7f; text-decoration-color: #7f7f7f\"> 15 </span>│ net.blocks.0.norm1         │ BatchNorm2d       │    256 │\n",
              "│<span style=\"color: #7f7f7f; text-decoration-color: #7f7f7f\"> 16 </span>│ net.blocks.0.norm2         │ BatchNorm2d       │    256 │\n",
              "│<span style=\"color: #7f7f7f; text-decoration-color: #7f7f7f\"> 17 </span>│ net.blocks.0.drop          │ Dropout           │      0 │\n",
              "│<span style=\"color: #7f7f7f; text-decoration-color: #7f7f7f\"> 18 </span>│ net.blocks.1               │ ResidualBlock     │  295 K │\n",
              "│<span style=\"color: #7f7f7f; text-decoration-color: #7f7f7f\"> 19 </span>│ net.blocks.1.activation    │ LeakyReLU         │      0 │\n",
              "│<span style=\"color: #7f7f7f; text-decoration-color: #7f7f7f\"> 20 </span>│ net.blocks.1.conv1         │ PeriodicConv2D    │  147 K │\n",
              "│<span style=\"color: #7f7f7f; text-decoration-color: #7f7f7f\"> 21 </span>│ net.blocks.1.conv1.padding │ PeriodicPadding2D │      0 │\n",
              "│<span style=\"color: #7f7f7f; text-decoration-color: #7f7f7f\"> 22 </span>│ net.blocks.1.conv1.conv    │ Conv2d            │  147 K │\n",
              "│<span style=\"color: #7f7f7f; text-decoration-color: #7f7f7f\"> 23 </span>│ net.blocks.1.conv2         │ PeriodicConv2D    │  147 K │\n",
              "│<span style=\"color: #7f7f7f; text-decoration-color: #7f7f7f\"> 24 </span>│ net.blocks.1.conv2.padding │ PeriodicPadding2D │      0 │\n",
              "│<span style=\"color: #7f7f7f; text-decoration-color: #7f7f7f\"> 25 </span>│ net.blocks.1.conv2.conv    │ Conv2d            │  147 K │\n",
              "│<span style=\"color: #7f7f7f; text-decoration-color: #7f7f7f\"> 26 </span>│ net.blocks.1.shortcut      │ Identity          │      0 │\n",
              "│<span style=\"color: #7f7f7f; text-decoration-color: #7f7f7f\"> 27 </span>│ net.blocks.1.norm1         │ BatchNorm2d       │    256 │\n",
              "│<span style=\"color: #7f7f7f; text-decoration-color: #7f7f7f\"> 28 </span>│ net.blocks.1.norm2         │ BatchNorm2d       │    256 │\n",
              "│<span style=\"color: #7f7f7f; text-decoration-color: #7f7f7f\"> 29 </span>│ net.blocks.1.drop          │ Dropout           │      0 │\n",
              "│<span style=\"color: #7f7f7f; text-decoration-color: #7f7f7f\"> 30 </span>│ net.blocks.2               │ ResidualBlock     │  295 K │\n",
              "│<span style=\"color: #7f7f7f; text-decoration-color: #7f7f7f\"> 31 </span>│ net.blocks.2.activation    │ LeakyReLU         │      0 │\n",
              "│<span style=\"color: #7f7f7f; text-decoration-color: #7f7f7f\"> 32 </span>│ net.blocks.2.conv1         │ PeriodicConv2D    │  147 K │\n",
              "│<span style=\"color: #7f7f7f; text-decoration-color: #7f7f7f\"> 33 </span>│ net.blocks.2.conv1.padding │ PeriodicPadding2D │      0 │\n",
              "│<span style=\"color: #7f7f7f; text-decoration-color: #7f7f7f\"> 34 </span>│ net.blocks.2.conv1.conv    │ Conv2d            │  147 K │\n",
              "│<span style=\"color: #7f7f7f; text-decoration-color: #7f7f7f\"> 35 </span>│ net.blocks.2.conv2         │ PeriodicConv2D    │  147 K │\n",
              "│<span style=\"color: #7f7f7f; text-decoration-color: #7f7f7f\"> 36 </span>│ net.blocks.2.conv2.padding │ PeriodicPadding2D │      0 │\n",
              "│<span style=\"color: #7f7f7f; text-decoration-color: #7f7f7f\"> 37 </span>│ net.blocks.2.conv2.conv    │ Conv2d            │  147 K │\n",
              "│<span style=\"color: #7f7f7f; text-decoration-color: #7f7f7f\"> 38 </span>│ net.blocks.2.shortcut      │ Identity          │      0 │\n",
              "│<span style=\"color: #7f7f7f; text-decoration-color: #7f7f7f\"> 39 </span>│ net.blocks.2.norm1         │ BatchNorm2d       │    256 │\n",
              "│<span style=\"color: #7f7f7f; text-decoration-color: #7f7f7f\"> 40 </span>│ net.blocks.2.norm2         │ BatchNorm2d       │    256 │\n",
              "│<span style=\"color: #7f7f7f; text-decoration-color: #7f7f7f\"> 41 </span>│ net.blocks.2.drop          │ Dropout           │      0 │\n",
              "│<span style=\"color: #7f7f7f; text-decoration-color: #7f7f7f\"> 42 </span>│ net.blocks.3               │ ResidualBlock     │  295 K │\n",
              "│<span style=\"color: #7f7f7f; text-decoration-color: #7f7f7f\"> 43 </span>│ net.blocks.3.activation    │ LeakyReLU         │      0 │\n",
              "│<span style=\"color: #7f7f7f; text-decoration-color: #7f7f7f\"> 44 </span>│ net.blocks.3.conv1         │ PeriodicConv2D    │  147 K │\n",
              "│<span style=\"color: #7f7f7f; text-decoration-color: #7f7f7f\"> 45 </span>│ net.blocks.3.conv1.padding │ PeriodicPadding2D │      0 │\n",
              "│<span style=\"color: #7f7f7f; text-decoration-color: #7f7f7f\"> 46 </span>│ net.blocks.3.conv1.conv    │ Conv2d            │  147 K │\n",
              "│<span style=\"color: #7f7f7f; text-decoration-color: #7f7f7f\"> 47 </span>│ net.blocks.3.conv2         │ PeriodicConv2D    │  147 K │\n",
              "│<span style=\"color: #7f7f7f; text-decoration-color: #7f7f7f\"> 48 </span>│ net.blocks.3.conv2.padding │ PeriodicPadding2D │      0 │\n",
              "│<span style=\"color: #7f7f7f; text-decoration-color: #7f7f7f\"> 49 </span>│ net.blocks.3.conv2.conv    │ Conv2d            │  147 K │\n",
              "│<span style=\"color: #7f7f7f; text-decoration-color: #7f7f7f\"> 50 </span>│ net.blocks.3.shortcut      │ Identity          │      0 │\n",
              "│<span style=\"color: #7f7f7f; text-decoration-color: #7f7f7f\"> 51 </span>│ net.blocks.3.norm1         │ BatchNorm2d       │    256 │\n",
              "│<span style=\"color: #7f7f7f; text-decoration-color: #7f7f7f\"> 52 </span>│ net.blocks.3.norm2         │ BatchNorm2d       │    256 │\n",
              "│<span style=\"color: #7f7f7f; text-decoration-color: #7f7f7f\"> 53 </span>│ net.blocks.3.drop          │ Dropout           │      0 │\n",
              "│<span style=\"color: #7f7f7f; text-decoration-color: #7f7f7f\"> 54 </span>│ net.norm                   │ BatchNorm2d       │    256 │\n",
              "│<span style=\"color: #7f7f7f; text-decoration-color: #7f7f7f\"> 55 </span>│ net.final                  │ PeriodicConv2D    │  6.3 K │\n",
              "│<span style=\"color: #7f7f7f; text-decoration-color: #7f7f7f\"> 56 </span>│ net.final.padding          │ PeriodicPadding2D │      0 │\n",
              "│<span style=\"color: #7f7f7f; text-decoration-color: #7f7f7f\"> 57 </span>│ net.final.conv             │ Conv2d            │  6.3 K │\n",
              "│<span style=\"color: #7f7f7f; text-decoration-color: #7f7f7f\"> 58 </span>│ denormalization            │ Normalize         │      0 │\n",
              "│<span style=\"color: #7f7f7f; text-decoration-color: #7f7f7f\"> 59 </span>│ mean_denormalize           │ Normalize         │      0 │\n",
              "│<span style=\"color: #7f7f7f; text-decoration-color: #7f7f7f\"> 60 </span>│ std_denormalize            │ Normalize         │      0 │\n",
              "└────┴────────────────────────────┴───────────────────┴────────┘\n",
              "</pre>\n"
            ]
          },
          "metadata": {}
        },
        {
          "output_type": "display_data",
          "data": {
            "text/plain": [
              "\u001b[1mTrainable params\u001b[0m: 1.2 M                                                                                            \n",
              "\u001b[1mNon-trainable params\u001b[0m: 0                                                                                            \n",
              "\u001b[1mTotal params\u001b[0m: 1.2 M                                                                                                \n",
              "\u001b[1mTotal estimated model params size (MB)\u001b[0m: 2                                                                          \n"
            ],
            "text/html": [
              "<pre style=\"white-space:pre;overflow-x:auto;line-height:normal;font-family:Menlo,'DejaVu Sans Mono',consolas,'Courier New',monospace\"><span style=\"font-weight: bold\">Trainable params</span>: 1.2 M                                                                                            \n",
              "<span style=\"font-weight: bold\">Non-trainable params</span>: 0                                                                                            \n",
              "<span style=\"font-weight: bold\">Total params</span>: 1.2 M                                                                                                \n",
              "<span style=\"font-weight: bold\">Total estimated model params size (MB)</span>: 2                                                                          \n",
              "</pre>\n"
            ]
          },
          "metadata": {}
        },
        {
          "output_type": "display_data",
          "data": {
            "text/plain": [
              "Output()"
            ],
            "application/vnd.jupyter.widget-view+json": {
              "version_major": 2,
              "version_minor": 0,
              "model_id": "8491c441c5a3488aa1a29a6ba638efe7"
            }
          },
          "metadata": {}
        },
        {
          "output_type": "display_data",
          "data": {
            "text/plain": [],
            "text/html": [
              "<pre style=\"white-space:pre;overflow-x:auto;line-height:normal;font-family:Menlo,'DejaVu Sans Mono',consolas,'Courier New',monospace\"></pre>\n"
            ]
          },
          "metadata": {}
        },
        {
          "output_type": "display_data",
          "data": {
            "text/plain": [
              "\n"
            ],
            "text/html": [
              "<pre style=\"white-space:pre;overflow-x:auto;line-height:normal;font-family:Menlo,'DejaVu Sans Mono',consolas,'Courier New',monospace\">\n",
              "</pre>\n"
            ]
          },
          "metadata": {}
        }
      ]
    },
    {
      "cell_type": "markdown",
      "source": [
        "## Evaluation\n"
      ],
      "metadata": {
        "id": "fCR5yoIAUBTa"
      }
    },
    {
      "cell_type": "markdown",
      "source": [
        "Once our prediction model is trained, we want to be able to evaluate it against the ground truth labels for data samples in the test set.\n",
        "\n",
        "In addition to the Latitude weighted RMSE (Eq. 1), we shall look at the Anomaly Correlation Coefficient (ACC) which is defined as:\n",
        "\n",
        "<br>\n",
        "$ACC = \\frac{\\sum_{i,j,k}L(j)f'_{i,j,k}t'_{i,j,k}}{\\sqrt{\\sum_{i,j,k}L(j)f'^{2}_{i,j,k}L(j)t'^{2}_{i,j,k}}} \\tag{3}$\n",
        "<br>\n",
        "\n",
        "where $'$ denotes the difference to the climatology. We define climatology as:\n",
        "\n",
        "<br>\n",
        "$climatology_{j,k} = \\frac{1}{N_{time}}\\sum{t_{j,k}}\\tag{4}$\n",
        "<br>\n",
        "\n",
        "For the RMSE metric, we compare the deep learning model with a climatological forecast."
      ],
      "metadata": {
        "id": "nlnsuXsbwvPo"
      }
    },
    {
      "cell_type": "code",
      "source": [
        "trainer.test(model_module, data_module)"
      ],
      "metadata": {
        "colab": {
          "base_uri": "https://localhost:8080/",
          "height": 149,
          "referenced_widgets": [
            "e587e705b83e439389b984fc89312232",
            "745ff522ee1a44cf88af1f4999c1a12e"
          ]
        },
        "id": "HvdXm85fa9KD",
        "outputId": "86303ab6-a961-4257-ae25-6eac8d981550"
      },
      "execution_count": null,
      "outputs": [
        {
          "output_type": "display_data",
          "data": {
            "text/plain": [
              "Output()"
            ],
            "application/vnd.jupyter.widget-view+json": {
              "version_major": 2,
              "version_minor": 0,
              "model_id": "e587e705b83e439389b984fc89312232"
            }
          },
          "metadata": {}
        },
        {
          "output_type": "display_data",
          "data": {
            "text/plain": [
              "┏━━━━━━━━━━━━━━━━━━━━━━━━━━━━━━━━━━━━━━━━━━━━━━━━━━━━━━━┳━━━━━━━━━━━━━━━━━━━━━━━━━━━━━━━━━━━━━━━━━━━━━━━━━━━━━━━┓\n",
              "┃\u001b[1m \u001b[0m\u001b[1m                     Test metric                     \u001b[0m\u001b[1m \u001b[0m┃\u001b[1m \u001b[0m\u001b[1m                    DataLoader 0                     \u001b[0m\u001b[1m \u001b[0m┃\n",
              "┡━━━━━━━━━━━━━━━━━━━━━━━━━━━━━━━━━━━━━━━━━━━━━━━━━━━━━━━╇━━━━━━━━━━━━━━━━━━━━━━━━━━━━━━━━━━━━━━━━━━━━━━━━━━━━━━━┩\n",
              "│\u001b[36m \u001b[0m\u001b[36m            test/acc_2m_temperature_day_3            \u001b[0m\u001b[36m \u001b[0m│\u001b[35m \u001b[0m\u001b[35m                 0.8710094217778567                  \u001b[0m\u001b[35m \u001b[0m│\n",
              "│\u001b[36m \u001b[0m\u001b[36m          test/w_rmse_2m_temperature_day_3           \u001b[0m\u001b[36m \u001b[0m│\u001b[35m \u001b[0m\u001b[35m                  2.530231507389152                  \u001b[0m\u001b[35m \u001b[0m│\n",
              "│\u001b[36m \u001b[0m\u001b[36mtest_climatology_baseline/w_rmse_2m_temperature_day_3\u001b[0m\u001b[36m \u001b[0m│\u001b[35m \u001b[0m\u001b[35m                  5.88424715407195                   \u001b[0m\u001b[35m \u001b[0m│\n",
              "└───────────────────────────────────────────────────────┴───────────────────────────────────────────────────────┘\n"
            ],
            "text/html": [
              "<pre style=\"white-space:pre;overflow-x:auto;line-height:normal;font-family:Menlo,'DejaVu Sans Mono',consolas,'Courier New',monospace\">┏━━━━━━━━━━━━━━━━━━━━━━━━━━━━━━━━━━━━━━━━━━━━━━━━━━━━━━━┳━━━━━━━━━━━━━━━━━━━━━━━━━━━━━━━━━━━━━━━━━━━━━━━━━━━━━━━┓\n",
              "┃<span style=\"font-weight: bold\">                      Test metric                      </span>┃<span style=\"font-weight: bold\">                     DataLoader 0                      </span>┃\n",
              "┡━━━━━━━━━━━━━━━━━━━━━━━━━━━━━━━━━━━━━━━━━━━━━━━━━━━━━━━╇━━━━━━━━━━━━━━━━━━━━━━━━━━━━━━━━━━━━━━━━━━━━━━━━━━━━━━━┩\n",
              "│<span style=\"color: #008080; text-decoration-color: #008080\">             test/acc_2m_temperature_day_3             </span>│<span style=\"color: #800080; text-decoration-color: #800080\">                  0.8710094217778567                   </span>│\n",
              "│<span style=\"color: #008080; text-decoration-color: #008080\">           test/w_rmse_2m_temperature_day_3            </span>│<span style=\"color: #800080; text-decoration-color: #800080\">                   2.530231507389152                   </span>│\n",
              "│<span style=\"color: #008080; text-decoration-color: #008080\"> test_climatology_baseline/w_rmse_2m_temperature_day_3 </span>│<span style=\"color: #800080; text-decoration-color: #800080\">                   5.88424715407195                    </span>│\n",
              "└───────────────────────────────────────────────────────┴───────────────────────────────────────────────────────┘\n",
              "</pre>\n"
            ]
          },
          "metadata": {}
        },
        {
          "output_type": "display_data",
          "data": {
            "text/plain": [],
            "text/html": [
              "<pre style=\"white-space:pre;overflow-x:auto;line-height:normal;font-family:Menlo,'DejaVu Sans Mono',consolas,'Courier New',monospace\"></pre>\n"
            ]
          },
          "metadata": {}
        },
        {
          "output_type": "display_data",
          "data": {
            "text/plain": [
              "\n"
            ],
            "text/html": [
              "<pre style=\"white-space:pre;overflow-x:auto;line-height:normal;font-family:Menlo,'DejaVu Sans Mono',consolas,'Courier New',monospace\">\n",
              "</pre>\n"
            ]
          },
          "metadata": {}
        }
      ]
    },
    {
      "cell_type": "markdown",
      "source": [
        "The model's prediction has a strong correlation with the ground truth, which is indicated by a high ACC value. Compared to a climatological forecast, the deep learning model achieves a much smaller RMSE error."
      ],
      "metadata": {
        "id": "sWigLES4s22j"
      }
    },
    {
      "cell_type": "markdown",
      "source": [
        "## Visualization"
      ],
      "metadata": {
        "id": "tcPCvx8AbPFZ"
      }
    },
    {
      "cell_type": "markdown",
      "source": [
        "We visualize the **bias**, given by the difference in the predicted and the ground truth values, to better analyze our learned model.\n",
        "\n",
        "Visualization is done on the test set. We can either specify exact time for the initial condition, or randomly sample from the test set."
      ],
      "metadata": {
        "id": "SRQLNyO_yPhn"
      }
    },
    {
      "cell_type": "code",
      "source": [
        "# from climate_tutorial.utils import visualize\n",
        "\n",
        "import os\n",
        "import random\n",
        "import numpy as np\n",
        "import matplotlib.pyplot as plt\n",
        "from datetime import datetime\n",
        "\n",
        "def visualize(model_module, data_module, split = \"test\", samples = 2, save_dir = None):\n",
        "    if save_dir is not None:\n",
        "        os.makedirs(save_dir, exist_ok = True)\n",
        "\n",
        "    # dataset.setup()\n",
        "    dataset = eval(f\"data_module.{split}_dataset\")\n",
        "\n",
        "    if(type(samples) == int):\n",
        "        idxs = random.sample(range(0, len(dataset)), samples)\n",
        "    elif(type(samples) == list):\n",
        "        idxs = [np.searchsorted(dataset.time, np.datetime64(datetime.strptime(dt, \"%Y-%m-%d:%H\"))) for dt in samples]\n",
        "    else:\n",
        "        raise Exception(\"Invalid type for samples; Allowed int or list[datetime.datetime or np.datetime64]\")\n",
        "\n",
        "    fig, axes = plt.subplots(len(idxs), 4, figsize=(30, 3 * len(idxs)), squeeze = False)\n",
        "\n",
        "    for index, idx in enumerate(idxs):\n",
        "        x, y, _, _ = dataset[idx] # 1, 1, 32, 64\n",
        "        pred = model_module.forward(x.unsqueeze(0)) # 1, 1, 32, 64\n",
        "\n",
        "        inv_normalize = model_module.denormalization\n",
        "        init_condition, gt = inv_normalize(x), inv_normalize(y)\n",
        "        pred = inv_normalize(pred)\n",
        "        bias = pred - gt\n",
        "\n",
        "        for i, tensor in enumerate([init_condition, gt, pred, bias]):\n",
        "            ax = axes[index][i]\n",
        "            im = ax.imshow(tensor.detach().squeeze().cpu().numpy())\n",
        "            im.set_cmap(cmap=plt.cm.RdBu)\n",
        "            fig.colorbar(im, ax=ax)\n",
        "\n",
        "        if(data_module.hparams.task == \"forecasting\"):\n",
        "            axes[index][0].set_title(\"Initial condition [Kelvin]\")\n",
        "            axes[index][1].set_title(\"Ground truth [Kelvin]\")\n",
        "            axes[index][2].set_title(\"Prediction [Kelvin]\")\n",
        "            axes[index][3].set_title(\"Bias [Kelvin]\")\n",
        "        elif(data_module.hparams.task == \"downscaling\"):\n",
        "            axes[index][0].set_title(\"Low resolution data [Kelvin]\")\n",
        "            axes[index][1].set_title(\"High resolution data [Kelvin]\")\n",
        "            axes[index][2].set_title(\"Downscaled [Kelvin]\")\n",
        "            axes[index][3].set_title(\"Bias [Kelvin]\")\n",
        "        else:\n",
        "            raise NotImplementedError\n",
        "\n",
        "    fig.tight_layout()\n",
        "\n",
        "    if save_dir is not None:\n",
        "        plt.savefig(os.path.join(save_dir, 'visualize.png'))\n",
        "    else:\n",
        "        plt.show()\n",
        "\n",
        "# if samples = 2, we randomly pick 2 initial conditions in the test set\n",
        "visualize(model_module, data_module, samples = [\"2017-06-01:12\", \"2017-08-01:18\"])"
      ],
      "metadata": {
        "colab": {
          "base_uri": "https://localhost:8080/",
          "height": 444
        },
        "id": "G-AM0-CPbTNl",
        "outputId": "afb60db9-1c45-489d-9bcc-08b4fdda2bdb"
      },
      "execution_count": null,
      "outputs": [
        {
          "output_type": "display_data",
          "data": {
            "text/plain": [
              "<Figure size 2160x432 with 16 Axes>"
            ],
            "image/png": "[encoded data removed]"
          },
          "metadata": {
            "needs_background": "light"
          }
        }
      ]
    },
    {
      "cell_type": "markdown",
      "source": [
        "The visualization shows that the model makes reasonably accurate predictions in most parts of the globe, and the prediction well correlates with the ground truth. The model seems to make large errors near the two poles, where the temperature is more unpredictable. We can improve the accuracy of the model by either including more input variables, using a more expressive model, or training for longer. For the sake of this tutorial, we use a small model and only train for a short time."
      ],
      "metadata": {
        "id": "Vy3WrJEOsEXZ"
      }
    },
    {
      "cell_type": "markdown",
      "source": [
        "In addition to visualizing the bias the model makes for each individual data point, we can also visualize the mean bias across the entire test set."
      ],
      "metadata": {
        "id": "C6HYhl551E8_"
      }
    },
    {
      "cell_type": "code",
      "source": [
        "import torch\n",
        "from tqdm import tqdm\n",
        "\n",
        "def visualize_mean_bias(model_module, data_module, save_dir = None):\n",
        "    if save_dir is not None:\n",
        "        os.makedirs(save_dir, exist_ok = True)\n",
        "\n",
        "    loader = data_module.test_dataloader()\n",
        "\n",
        "    all_mean_bias = []\n",
        "    for batch in tqdm(loader):\n",
        "      x, y, _, _ = batch # B, 1, 32, 64\n",
        "      x = x.to(model_module.device)\n",
        "      y = y.to(model_module.device)\n",
        "      pred = model_module.forward(x) # B, 1, 32, 64\n",
        "\n",
        "      inv_normalize = model_module.denormalization\n",
        "      init_condition, gt = inv_normalize(x), inv_normalize(y)\n",
        "      pred = inv_normalize(pred)\n",
        "      bias = pred - gt # B, 1, 32, 64\n",
        "      mean_bias = bias.mean(dim=0)\n",
        "      all_mean_bias.append(mean_bias)\n",
        "\n",
        "    all_mean_bias = torch.stack(all_mean_bias, dim=0)\n",
        "    mean_bias = torch.mean(all_mean_bias, dim=0)\n",
        "\n",
        "    fig, axes = plt.subplots(1, 1, figsize=(12, 4), squeeze = False)\n",
        "    ax = axes[0,0]\n",
        "\n",
        "    im = ax.imshow(mean_bias.detach().squeeze().cpu().numpy())\n",
        "    im.set_cmap(cmap=plt.cm.RdBu)\n",
        "    fig.colorbar(im, ax=ax)\n",
        "    ax.set_title(\"Mean bias [Kelvin]\")\n",
        "\n",
        "    fig.tight_layout()\n",
        "\n",
        "    if save_dir is not None:\n",
        "        plt.savefig(os.path.join(save_dir, 'visualize_mean_bias.png'))\n",
        "    else:\n",
        "        plt.show()\n",
        "\n",
        "visualize_mean_bias(model_module.cuda(), data_module)"
      ],
      "metadata": {
        "colab": {
          "base_uri": "https://localhost:8080/",
          "height": 315
        },
        "id": "H7Qjfu-H1VEd",
        "outputId": "16425b5f-224a-40a6-c607-fff38c8a3896"
      },
      "execution_count": null,
      "outputs": [
        {
          "output_type": "stream",
          "name": "stderr",
          "text": [
            "100%|██████████| 137/137 [00:40<00:00,  3.40it/s]\n"
          ]
        },
        {
          "output_type": "display_data",
          "data": {
            "text/plain": [
              "<Figure size 864x288 with 2 Axes>"
            ],
            "image/png": "[encoded data removed]"
          },
          "metadata": {
            "needs_background": "light"
          }
        }
      ]
    },
    {
      "cell_type": "code",
      "source": [
        "# # from climate_tutorial.utils import visualize\n",
        "\n",
        "# import os\n",
        "# import random\n",
        "# import numpy as np\n",
        "# from datetime import datetime\n",
        "# from plotly.express import imshow\n",
        "# from plotly.subplots import make_subplots\n",
        "# import plotly.graph_objects as go\n",
        "\n",
        "# # more use cases for visualize, make a more intuitive api\n",
        "# # which split of the data? train/val/test? currently test with a random data point\n",
        "# # timestamp that we are visualizing?\n",
        "# # only timestamp works -- can infer the split, we don't have the timestamp info for now -> include it in the dataloader\n",
        "# # number: 5 data points\n",
        "\n",
        "# # add lat long information\n",
        "# # plotly to zoom in\n",
        "\n",
        "# samples = [\"2017-01-01:12\", \"2017-02-01:18\"]\n",
        "# def visualize(model_module, data_module, split = \"test\", samples = samples):\n",
        "#     # dataset.setup()\n",
        "#     dataset = eval(f\"data_module.{split}_dataset\")\n",
        "\n",
        "#     if(type(samples) == int):\n",
        "#         idxs = random.sample(range(0, len(dataset)), samples)\n",
        "#     elif(type(samples) == list):\n",
        "#         idxs = [np.searchsorted(dataset.time, np.datetime64(datetime.strptime(dt, \"%Y-%m-%d:%H\"))) for dt in samples]\n",
        "#     else:\n",
        "#         raise Exception(\"Invalid type for samples; Allowed int or list[datetime.datetime or np.datetime64]\")\n",
        "\n",
        "#     # print(dataset.time[idxs[0]])\n",
        "#     # row_titles = [datetime.strftime(None, \"%Y-%m-%d:%H\") for idx in idxs]\n",
        "\n",
        "#     if(data_module.hparams.task == \"forecasting\"):\n",
        "#         col_titles = [\"Initial condition\", \"Ground truth\", \"Prediction\", \"Bias\"]\n",
        "#     elif(data_module.hparams.task == \"downscaling\"):\n",
        "#         col_titles = [\"Low resolution data\", \"High resolution data\", \"Downscaled\", \"Bias\"]\n",
        "#     else:\n",
        "#         raise NotImplementedError\n",
        "\n",
        "#     fig = make_subplots(len(idxs), 4, subplot_titles = col_titles * len(idxs))\n",
        "#     for i, idx in enumerate(idxs):\n",
        "#         x, y, _, _ = dataset[idx] # 1, 1, 32, 64\n",
        "#         pred = model_module.forward(x.unsqueeze(0)) # 1, 1, 32, 64\n",
        "\n",
        "#         inv_normalize = model_module.denormalization\n",
        "#         init_condition, gt = inv_normalize(x), inv_normalize(y)\n",
        "#         pred = inv_normalize(pred)\n",
        "#         bias = pred - gt\n",
        "\n",
        "#         for j, tensor in enumerate([init_condition, gt, pred, bias]):\n",
        "#             fig.add_trace(imshow(tensor.detach().squeeze().cpu().numpy(), color_continuous_scale = \"rdbu\", x = dataset.inp_lon if i == 0 else dataset.out_lon, y = dataset.inp_lat if i == 0 else dataset.out_lat).data[0], row = i + 1, col = j + 1)\n",
        "#             # fig.colorbar(im, ax=ax)\n",
        "\n",
        "#     # fig.tight_layout()\n",
        "#     fig.show()\n",
        "\n",
        "# visualize(model_module, data_module)"
      ],
      "metadata": {
        "id": "WfE1dfBAJ0X-"
      },
      "execution_count": null,
      "outputs": []
    },
    {
      "cell_type": "markdown",
      "source": [
        "<a name=\"spatial-downscaling\"></a>\n",
        "# Spatial Downscaling\n",
        "\n",
        "\n",
        "General Circulation Models (GCMs) provide us with the future projections of climate scenarios. These raw estimates have to be downscaled at the desired resolution for actionable guidance.\n",
        "\n",
        "<br>\n",
        "<center><img src=\"https://drive.google.com/uc?export=view&id=11i2CIRxlVRqOHIgZRABwF05Qf5KeqVwc\" height=300></center>\n",
        "\n",
        "In practice, statistical spatial downscaling can be used to make predictions about a climate variable (a) over the latitude-longitude grid of **higher** resolution than the input grid and (b) on specific sites at the target locations. For example, we can predict the temperature at a specific station in Germany based on the gridded temperature data over the whole country.\n",
        "\n",
        "Major class of statistical downscaling models include Perfect Prognosis (PP) [1] that aims at learning a transfer function $$\\hat{y} = f(x, Z)$$ where $y$ is the true value at location $x$ and $Z$ are the set of model predictors for the climate model. The various PP models differ in their realization of the transfer function $f$. Related works in [2] provides deeper details into the previous works. In [2,3], the authors use CNNs as the transfer function, broadly due to its inherent inductive bias towards handling Vision data. The ability of Deep CNNs to perform super-resolution is a well-explored field of study [4].\n",
        "\n",
        "<br/><br/>\n",
        "\n",
        "**References:**\n",
        "1. Maraun D, Wetterhall F, Ireson AM, Chandler RE, Kendon EJ, Widmann M, Brienen S, Rust HW, Sauter T, Themeßl M, Venema VK. Precipitation downscaling under climate change: Recent developments to bridge the gap between dynamical models and the end user. Reviews of geophysics. 2010 Sep;48(3).\n",
        "2. Vaughan A, Tebbutt W, Hosking JS, Turner RE. Convolutional conditional neural processes for local climate downscaling. arXiv preprint arXiv:2101.07950. 2021 Jan 20.\n",
        "3. Baño-Medina J, Manzanas R, Gutiérrez JM. Configuration and intercomparison of deep learning neural models for statistical downscaling. Geoscientific Model Development. 2020 Apr 28;13(4):2109-24.\n",
        "4. Yamanaka J, Kuwashima S, Kurita T. Fast and accurate image super resolution by deep CNN with skip connection and network in network. InInternational Conference on Neural Information Processing 2017 Nov 14 (pp. 217-225). Springer, Cham."
      ],
      "metadata": {
        "id": "srfsF01OLV-C"
      }
    },
    {
      "cell_type": "markdown",
      "source": [
        "- In this tutorial, we shall focus on mapping the coarse resolution data for a variable to a finer resolution at a given time stamp. Specifically, we shall continue with focusing on the _Temperature at 2m_ climate variable using a ResNet model."
      ],
      "metadata": {
        "id": "rwdjVOCoJP9t"
      }
    },
    {
      "cell_type": "markdown",
      "source": [
        "## Data Download\n",
        "\n",
        "To perfrom climate downscaling, we need to have data for the temperature at 2m at different resolutions. In addition to the 5.625deg dataset we downloaded above, here we download the 2.8125deg dataset, which divides the Earth's surface into a latitude x longitude grid of 64 x 128."
      ],
      "metadata": {
        "id": "0zAegEGoV9zy"
      }
    },
    {
      "cell_type": "code",
      "source": [
        "from climate_learn.data import download\n",
        "\n",
        "# Download data from weatherbench (~2-3 minutes)\n",
        "# download(root = \"/content/drive/MyDrive/Climate/.climate_tutorial\", source = \"weatherbench\", variable = \"2m_temperature\", dataset = \"era5\", resolution = \"5.625\")\n",
        "# Download data from weatherbench (~4-6 minutes)\n",
        "download(root = \"/content/drive/MyDrive/Climate/.climate_tutorial\", source = \"weatherbench\", variable = \"2m_temperature\", dataset = \"era5\", resolution = \"2.8125\")"
      ],
      "metadata": {
        "colab": {
          "base_uri": "https://localhost:8080/"
        },
        "id": "u3tRve6-h0sI",
        "outputId": "d1826693-37c2-4293-f093-eaa398bee966"
      },
      "execution_count": null,
      "outputs": [
        {
          "output_type": "stream",
          "name": "stdout",
          "text": [
            "Downloading era5 2m_temperature data for 2.8125 resolution from weatherbench to /content/drive/MyDrive/Climate/.climate_tutorial/data/weatherbench/era5/2.8125/2m_temperature\n"
          ]
        }
      ]
    },
    {
      "cell_type": "markdown",
      "source": [
        "## Data Conversion"
      ],
      "metadata": {
        "id": "YsR8lhdjXejR"
      }
    },
    {
      "cell_type": "code",
      "source": [
        "from climate_learn.utils.datetime import Year, Days, Hours\n",
        "from climate_learn.data import DataModule\n",
        "\n",
        "data_module = DataModule(\n",
        "    dataset = \"ERA5\",\n",
        "    task = \"downscaling\",\n",
        "    root_dir = \"/content/drive/MyDrive/Climate/.climate_tutorial/data/weatherbench/era5/5.625\",\n",
        "    root_highres_dir = \"/content/drive/MyDrive/Climate/.climate_tutorial/data/weatherbench/era5/2.8125\",\n",
        "    in_vars = [\"2m_temperature\"],\n",
        "    out_vars = [\"2m_temperature\"],\n",
        "    train_start_year = Year(1979),\n",
        "    val_start_year = Year(2015),\n",
        "    test_start_year = Year(2017),\n",
        "    end_year = Year(2018),\n",
        "    subsample = Hours(6),\n",
        "    batch_size = 128,\n",
        "    num_workers = 1\n",
        ")"
      ],
      "metadata": {
        "id": "7T9N7cL4oFKm",
        "colab": {
          "base_uri": "https://localhost:8080/",
          "height": 99,
          "referenced_widgets": [
            "0c606c78642e409eaa8fbbfd61e40cb8",
            "296b1ee324ed4e74a57c5439751d51ad",
            "93b1dd869c564c75964e78df5cee8e30",
            "aa6608e44fa44e518f3b10be10730bbf",
            "5980eef837684465b893fa02a96c3d72",
            "0a774eb505de4f028e35ccb793c7eb10",
            "860c63df18a44246acab1a5d173f29b1",
            "78f0746a211842538b826f8ac027f602",
            "fce79f603cfd4c809788b6dc1c677e85",
            "adb8287e497b41819e92cee4aa94881e",
            "dd08b8b768bf46ec87902f2502d195f8",
            "bd729e5f9eba4121b3e14e9112128463",
            "047fb6f7e92a42ce8555bed88f61039b",
            "189785d86fdd45b9be5d99b703666667",
            "fee0eb7f0aa24a8990d8ebb32a13886d",
            "3c04dc5a23bb41bda7e3141174478d18",
            "c1e2f5098c754170b04607c2b2160ed4",
            "48d8c84aad4245a795806eeb8d0f41f7",
            "c116da5970b24b2aab01a34b40bbe435",
            "32e28adfdae347a3889baa2750af8f8f",
            "a0ebac03ea924fdb9dcea3adf19e2f8c",
            "eba08fcafd6b45ec802bccf2e0aa4fb7"
          ]
        },
        "outputId": "24535aae-4b08-44b8-df7d-61ad6612f756"
      },
      "execution_count": null,
      "outputs": [
        {
          "output_type": "stream",
          "name": "stdout",
          "text": [
            "Creating train dataset\n"
          ]
        },
        {
          "output_type": "display_data",
          "data": {
            "text/plain": [
              "  0%|          | 0/36 [00:00<?, ?it/s]"
            ],
            "application/vnd.jupyter.widget-view+json": {
              "version_major": 2,
              "version_minor": 0,
              "model_id": "0c606c78642e409eaa8fbbfd61e40cb8"
            }
          },
          "metadata": {}
        },
        {
          "output_type": "display_data",
          "data": {
            "text/plain": [
              "  0%|          | 0/36 [00:00<?, ?it/s]"
            ],
            "application/vnd.jupyter.widget-view+json": {
              "version_major": 2,
              "version_minor": 0,
              "model_id": "bd729e5f9eba4121b3e14e9112128463"
            }
          },
          "metadata": {}
        }
      ]
    },
    {
      "cell_type": "markdown",
      "source": [
        "## Model initialization"
      ],
      "metadata": {
        "id": "Sunkptw4g_Rc"
      }
    },
    {
      "cell_type": "code",
      "source": [
        "from climate_learn.models import load_model\n",
        "\n",
        "# model_kwargs = {\n",
        "#     \"img_size\": [32, 64],\n",
        "#     \"patch_size\": 4,\n",
        "#     \"drop_path\": 0.1,\n",
        "#     \"drop_rate\": 0.1,\n",
        "#     \"learn_pos_emb\": True,\n",
        "#     \"in_vars\": data_module.hparams.in_vars,\n",
        "#     \"out_vars\": data_module.hparams.out_vars,\n",
        "#     \"upsampling\": data_module.train_dataset.downscale_ratio,\n",
        "#     \"embed_dim\": 128,\n",
        "#     \"depth\": 8,\n",
        "#     \"decoder_depth\": 0,\n",
        "#     \"num_heads\": 4,\n",
        "#     \"mlp_ratio\": 4,\n",
        "# }\n",
        "\n",
        "model_kwargs = {\n",
        "    \"in_channels\": len(data_module.hparams.in_vars),\n",
        "    \"out_channels\": len(data_module.hparams.out_vars),\n",
        "    \"upsampling\": data_module.train_dataset.downscale_ratio,\n",
        "    \"n_blocks\": 4,\n",
        "}\n",
        "\n",
        "optim_kwargs = {\n",
        "    \"optimizer\": \"adamw\",\n",
        "    \"lr\": 1e-4,\n",
        "    \"weight_decay\": 1e-5,\n",
        "    \"warmup_epochs\": 1,\n",
        "    \"max_epochs\": 5,\n",
        "}\n",
        "\n",
        "# model_module = load_model(name = \"vit\", task = \"downscaling\", model_kwargs = model_kwargs, optim_kwargs = optim_kwargs)\n",
        "model_module = load_model(name = \"resnet\", task = \"downscaling\", model_kwargs = model_kwargs, optim_kwargs = optim_kwargs)\n",
        "# model_module = load_model(name = \"unet\", task = \"downscaling\", model_kwargs = model_kwargs, optim_kwargs = optim_kwargs)"
      ],
      "metadata": {
        "id": "lqxpa1znpX5n"
      },
      "execution_count": null,
      "outputs": []
    },
    {
      "cell_type": "code",
      "source": [
        "# latitude long info,\n",
        "from climate_learn.models import set_climatology\n",
        "set_climatology(model_module, data_module)"
      ],
      "metadata": {
        "id": "CHytyooUpc9-"
      },
      "execution_count": null,
      "outputs": []
    },
    {
      "cell_type": "markdown",
      "source": [
        "## Training"
      ],
      "metadata": {
        "id": "e1XU1EIvXhvb"
      }
    },
    {
      "cell_type": "code",
      "source": [
        "from climate_learn.training import Trainer, WandbLogger\n",
        "\n",
        "trainer = Trainer(\n",
        "    seed = 0,\n",
        "    accelerator = \"gpu\",\n",
        "    precision = 16,\n",
        "    max_epochs = 5,\n",
        "    # logger = WandbLogger(project = \"climate_tutorial\", name = \"downscale-vit\")\n",
        ")"
      ],
      "metadata": {
        "id": "ioW1bg4QpZ30"
      },
      "execution_count": null,
      "outputs": []
    },
    {
      "cell_type": "code",
      "source": [
        "trainer.fit(model_module, data_module)"
      ],
      "metadata": {
        "id": "a6K0-H3ppiRY"
      },
      "execution_count": null,
      "outputs": []
    },
    {
      "cell_type": "markdown",
      "source": [
        "## Evaluation"
      ],
      "metadata": {
        "id": "k7JdGELMXpIw"
      }
    },
    {
      "cell_type": "code",
      "source": [
        "trainer.test(model_module, data_module)"
      ],
      "metadata": {
        "id": "kELMwe8lpm1e"
      },
      "execution_count": null,
      "outputs": []
    },
    {
      "cell_type": "markdown",
      "source": [
        "## Visualization"
      ],
      "metadata": {
        "id": "-DQou7zmXq7u"
      }
    },
    {
      "cell_type": "code",
      "source": [
        "# from climate_tutorial.utils import visualize\n",
        "# visualize(model_module, data_module)\n",
        "visualize(model_module, data_module, samples = [\"2017-06-01:12\", \"2017-08-01:18\"])"
      ],
      "metadata": {
        "id": "SL2v8Nn973sL"
      },
      "execution_count": null,
      "outputs": []
    },
    {
      "cell_type": "markdown",
      "source": [
        "## Potential Applications of the Tutorial\n",
        "\n",
        "\n",
        "1. Our package with this tutorial makes it easy for the practitioners to focus on the machine learning model design and evaluate their models against standard benchmarks such as Weatherbench ([Leaderboard](https://github.com/pangeo-data/WeatherBench)) using our evaluation support.\n",
        "2. The climate experts can load and train their customized machine learning models with various hyperparameters. For instance, they can study the effect of varying the capacity of machine learning models on its predictions.\n",
        "3. To best of our knowledge, this is the only package that provides support for temporal forecasting and spatial downscaling under the hood. It helps the forecasting community to benefit from the improvements in modeling downscaling and vice-versa."
      ],
      "metadata": {
        "id": "W2wWs9DDxb1I"
      }
    },
    {
      "cell_type": "markdown",
      "source": [
        "## Limitations\n",
        "\n",
        "\n",
        "1. Due to the noise involved in capturing climate variables, climate modeling is particularly a challenging task. Different datasets such as ERA5, CMIP6 may contain different values for a particular climate variable.\n",
        "2. This tutorial does not cover the aspect of uncertainity in the model predictions. We shall add more capabilities to our models in the package for climate modelers to quantify the error in the predicted output.\n",
        "3. There is a massive amount of climate data available (~10 TBs), our tutorial does not cover aspects of how to deal with the data at that scale which might be important for capturing more sophisticated climate phenomenon."
      ],
      "metadata": {
        "id": "x9VLYXAkxfAH"
      }
    }
  ]
}